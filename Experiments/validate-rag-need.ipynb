{
 "cells": [
  {
   "cell_type": "markdown",
   "metadata": {},
   "source": [
    "# RAG 사용 유무에 따른 피드백 결과 비교"
   ]
  },
  {
   "cell_type": "markdown",
   "metadata": {},
   "source": [
    "## 1. 피드백"
   ]
  },
  {
   "cell_type": "code",
   "execution_count": 30,
   "metadata": {},
   "outputs": [
    {
     "data": {
      "text/plain": [
       "AIMessage(content='Hello! How can I assist you today?', additional_kwargs={'refusal': None}, response_metadata={'token_usage': {'completion_tokens': 10, 'prompt_tokens': 14, 'total_tokens': 24, 'completion_tokens_details': None, 'prompt_tokens_details': None}, 'model_name': 'solar-pro-241126', 'system_fingerprint': None, 'finish_reason': 'stop', 'logprobs': None}, id='run-c42b12bd-09b5-41fc-8e22-86bbb8387c39-0', usage_metadata={'input_tokens': 14, 'output_tokens': 10, 'total_tokens': 24, 'input_token_details': {}, 'output_token_details': {}})"
      ]
     },
     "execution_count": 30,
     "metadata": {},
     "output_type": "execute_result"
    }
   ],
   "source": [
    "from langchain_upstage import ChatUpstage\n",
    "\n",
    "llm = ChatUpstage(model=\"solar-pro\")\n",
    "llm.invoke(\"Hello, world!\")"
   ]
  },
  {
   "cell_type": "code",
   "execution_count": 31,
   "metadata": {},
   "outputs": [],
   "source": [
    "import time"
   ]
  },
  {
   "cell_type": "code",
   "execution_count": 36,
   "metadata": {},
   "outputs": [],
   "source": [
    "# 예시 텍스트\n",
    "text = \"\"\"\n",
    "별의 형성 성운 단계:성운(가스와 먼지 구름)이 온도 하강으로 인해 수축이 시작.중심부가 차가워지며 밀도가 높아지고, 원시별이 형성됨. 원시별 단계:핵융합 반응이 바로 시작되며 중심부 온도가 약 1천만 K로 상승. 주계열성 단계 핵융합 시작:중심부 온도가 약 10억 K에 도달하면 수소가 헬륨으로 융합되며 에너지를 방출. 특징:별은 내부의 중력과 외부로 나가는 방사압이 균형을 이루지 못하며 진동을 반복.질량이 클수록 수명이 길어지고 더 밝으며 온도는 낮아짐. 거성 또는 초거성 단계 핵융합 종료 후 부풀어오름:중심부의 수소가 모두 소모되면 별 전체가 서서히 수축하며 적색 거성 또는 초거성이 됨. 핵융합 반복:질량이 큰 별은 헬륨 이후에도 탄소, 산소, 규소 등을 융합하며 금까지 생성.\n",
    "\"\"\""
   ]
  },
  {
   "cell_type": "code",
   "execution_count": null,
   "metadata": {},
   "outputs": [
    {
     "name": "stdout",
     "output_type": "stream",
     "text": [
      "\n",
      "    1. 피드백: '별의 형성' 과정에서 '원시별'이 형성될 때, 수축으로 인해 중심부의 온도가 상승하는 것이 맞습니다. 하지만 핵융합 반응이 바로 시작되는 것이 아니라, 중심부 온도가 약 1천만 K에 도달해야 핵융합 반응이 시작됩니다.\n",
      "\n",
      "    해설: '원시별'은 아직 핵융합 반응이 시작되지 않은 상태로, 중심부 온도가 약 1천만 K에 도달해야 핵융합 반응이 시작됩니다.\n",
      "\n",
      "    2. 피드백: '주계열성' 단계에서 '특징'으로 '별은 내부의 중력과 외부로 나가는 방사압이 균형을 이루지 못하며 진동을 반복'이라고 설명한 부분은 잘못된 내용입니다. 실제로는 내부의 중력과 외부로 나가는 방사압이 균형을 이루어 안정된 상태를 유지합니다.\n",
      "\n",
      "    해설: '주계열성' 단계에서는 내부의 중력과 외부로 나가는 방사압이 균형을 이루어 안정된 상태를 유지합니다.\n",
      "\n",
      "    3. 피드백: '거성 또는 초거성 단계'에서 '질량이 클수록 수명이 길어지고 더 밝으며 온도는 낮아짐'이라고 설명한 부분은 잘못된 내용입니다. 실제로는 질량이 클수록 수명이 짧아지고 더 밝으며 온도는 높아집니다.\n",
      "\n",
      "    해설: '거성 또는 초거성 단계'에서 질량이 클수록 수명이 짧아지고 더 밝으며 온도는 높아집니다.\n",
      "6.938148736953735\n"
     ]
    }
   ],
   "source": [
    "def provide_feedback(input_text):\n",
    "    # LLM을 이용해 피드백 요청\n",
    "    llm = ChatUpstage(api_key=UPSTAGE_API_KEY,model=\"solar-pro\")\n",
    "    \n",
    "    prompt = f\"\"\"\n",
    "    다음 사용자가 공부하며 작성한 텍스트에 대해 수능 문제를 푸는 사람을 대상으로 피드백을 작성해주세요.\n",
    "    잘못된 개념 학습을 방지하기 위해 피드백을 제공하고자 합니다.\n",
    "    피드백은 틀린 내용, 고칠 내용, 해설 순으로 작성되어야 하며, 피드백이 여러 개 있을 경우 번호를 매기세요.\n",
    "    해설은 간결하게 제공해주세요.\n",
    "    텍스트: {input_text}\n",
    "    \"\"\"\n",
    "\n",
    "    # LLM 호출\n",
    "    response = llm.invoke(prompt)\n",
    "    \n",
    "    # 전체 응답을 그대로 반환\n",
    "    return response.content\n",
    "\n",
    "start = time.time()\n",
    "# 피드백 제공\n",
    "feedback = provide_feedback(text)\n",
    "\n",
    "# 전체 피드백 출력\n",
    "print(feedback)\n",
    "\n",
    "end = time.time()\n",
    "print(end-start)"
   ]
  },
  {
   "cell_type": "code",
   "execution_count": 33,
   "metadata": {},
   "outputs": [],
   "source": [
    "from langchain_community.document_loaders import PyMuPDFLoader\n",
    "from langchain_core.output_parsers import StrOutputParser\n",
    "from langchain_core.prompts import PromptTemplate\n",
    "from langchain_core.runnables import RunnablePassthrough\n",
    "from langchain_pinecone import PineconeVectorStore\n",
    "from langchain_text_splitters import RecursiveCharacterTextSplitter\n",
    "from langchain_upstage import ChatUpstage, UpstageEmbeddings\n",
    "from pinecone import Pinecone, ServerlessSpec"
   ]
  },
  {
   "cell_type": "code",
   "execution_count": 34,
   "metadata": {},
   "outputs": [],
   "source": [
    "import os\n",
    "\n",
    "def langsmith(project_name=None, set_enable=True):\n",
    "\n",
    "    if set_enable:\n",
    "        result = os.environ.get(\"LANGCHAIN_API_KEY\")\n",
    "        if result is None or result.strip() == \"\":\n",
    "            print(\"LangChain API Key가 설정되지 않았습니다. 참고: https://wikidocs.net/250954\")\n",
    "            return\n",
    "        os.environ[\"LANGCHAIN_ENDPOINT\"] = \"https://api.smith.langchain.com\"  # LangSmith API 엔드포인트\n",
    "        os.environ[\"LANGCHAIN_TRACING_V2\"] = \"true\"  # true: 활성화\n",
    "        os.environ[\"LANGCHAIN_PROJECT\"] = project_name  # 프로젝트명\n",
    "        print(f\"LangSmith 추적을 시작합니다.\\n[프로젝트명]\\n{project_name}\")\n",
    "    else:\n",
    "        os.environ[\"LANGCHAIN_TRACING_V2\"] = \"false\"  # false: 비활성화\n",
    "        print(\"LangSmith 추적을 하지 않습니다.\")\n"
   ]
  },
  {
   "cell_type": "code",
   "execution_count": null,
   "metadata": {},
   "outputs": [
    {
     "name": "stdout",
     "output_type": "stream",
     "text": [
      "LangSmith 추적을 시작합니다.\n",
      "[프로젝트명]\n",
      "tag-test\n",
      "\n",
      "1. 잘못된 내용: \"중심부 온도가 약 1천만 K로 상승.\"\n",
      "   고칠 내용: \"중심부 온도가 약 1천만 K까지 상승.\"\n",
      "   해설: 원시별 단계에서 중심부 온도가 상승하는 과정은 점진적으로 일어나며, 약 1천만 K에 도달하는 것은 오랜 시간에 걸쳐 이루어집니다. 따라서 \"약 1천만 K로 상승\" 대신 \"약 1천만 K까지 상승\"이라고 표현해야 합니다.\n",
      "\n",
      "2. 잘못된 내용: \"별은 내부의 중력과 외부로 나가는 방사압이 균형을 이루지 못하며 진동을 반복.\"\n",
      "   고칠 내용: \"별은 내부의 중력과 외부로 나가는 방사압이 균형을 이루지 못하며 주기적인 팽창과 수축을 반복.\"\n",
      "   해설: 별의 내부에서 일어나는 중력과 방사압의 불균형은 별이 진동을 반복하는 것이 아니라 주기적인 팽창과 수축을 하는 단계로 이어집니다. 이를 주계열성의 진화 과정이라고 합니다. 따라서 \"진동을 반복\" 대신 \"주기적인 팽창과 수축을 반복\"이라고 표현해야 합니다.\n",
      "\n",
      "3. 잘못된 내용: \"질량이 클수록 수명이 길어지고 더 밝으며 온도는 낮아짐.\"\n",
      "   고칠 내용: \"질량이 클수록 수명이 짧아지고 더 밝으며 표면 온도는 낮아짐.\"\n",
      "   해설: 별의 질량이 클수록 핵융합 반응이 더 빠르게 일어나며, 이는 별의 수명을 단축시킵니다. 그러나 질량이 큰 별은 더 밝게 빛나며, 표면 온도는 낮습니다. 따라서 \"질량이 클수록 수명이 길어져\" 대신 \"질량이 클수록 수명이 짧아져\"라고 표현해야 하며, \"온도는 낮아짐\" 대신 \"표면 온도는 낮아짐\"이라고 표현해야 합니다.\n",
      "time: 11.413607835769653\n"
     ]
    }
   ],
   "source": [
    "def analysis_chunk(input_data):\n",
    "    # LangSmith 시작\n",
    "    langsmith(\"rag-test\")\n",
    "    db_index_name = \"dev-02\"\n",
    "\n",
    "    # Pinecone 연결\n",
    "    pc = Pinecone()\n",
    "    index = pc.Index(db_index_name)\n",
    "    embeddings = UpstageEmbeddings(model=\"embedding-query\")\n",
    "    vectorstore = PineconeVectorStore(index=index, embedding=embeddings)\n",
    "\n",
    "    # 검색기(Retriever) 생성\n",
    "    retriever = vectorstore.as_retriever()\n",
    "\n",
    "    # 입력 데이터와 관련된 정보 검색\n",
    "    retrieved_docs = retriever.invoke(input_data)\n",
    "    doc = retrieved_docs[0]\n",
    "    doc_context = doc.page_content\n",
    "    rag_id = doc.id\n",
    "\n",
    "    # 프롬프트 템플릿 생성 (피드백 형식)\n",
    "    prompt = PromptTemplate.from_template(\n",
    "        \"\"\"\n",
    "        다음 사용자가 공부하며 작성한 텍스트에 대해 수능 문제를 푸는 사람을 대상으로 피드백을 작성해주세요.\n",
    "        잘못된 개념 학습을 방지하기 위해 피드백을 제공하고자 합니다.\n",
    "        피드백은 틀린 내용, 고칠 내용, 해설 순으로 작성되어야 하며, 피드백이 여러 개 있을 경우 번호를 매기세요.\n",
    "        해설은 간결하게 제공해주세요.\n",
    "    \n",
    "\n",
    "        #정보:\n",
    "        {context}\n",
    "\n",
    "        #입력:\n",
    "        {question}\n",
    "\n",
    "        #답:\"\"\"\n",
    "    )\n",
    "    \n",
    "    # 언어모델(LLM) 생성\n",
    "    llm = ChatUpstage(model=\"solar-pro\")\n",
    "    \n",
    "    # RAG: 문서 검색 후 피드백 생성\n",
    "    chain = {\"context\": RunnablePassthrough(), \"question\": RunnablePassthrough()} | prompt | llm | StrOutputParser()\n",
    "    \n",
    "    # RAG 체인 실행\n",
    "    response = chain.invoke({\"context\": doc_context, \"question\": input_data})\n",
    "\n",
    "    # 결과 반환\n",
    "    return {\n",
    "        \"rag_id\": rag_id,\n",
    "        \"response\": response,\n",
    "    }\n",
    "\n",
    "start = time.time()\n",
    "# 피드백 제공\n",
    "feedback = analysis_chunk(text)\n",
    "\n",
    "# 전체 피드백 출력\n",
    "print(feedback['response'])\n",
    "end = time.time()\n",
    "print(f'time: {end-start}')"
   ]
  },
  {
   "cell_type": "markdown",
   "metadata": {},
   "source": [
    "## 2. 퀴즈"
   ]
  },
  {
   "cell_type": "code",
   "execution_count": 37,
   "metadata": {},
   "outputs": [
    {
     "name": "stdout",
     "output_type": "stream",
     "text": [
      "1. 별의 형성 과정에서 성운 단계가 핵융합 반응이 시작되는 단계인가요? (X)\n",
      "   설명: 성운 단계는 온도 하강으로 인해 수축이 시작되는 단계이며, 핵융합 반응이 바로 시작되는 것은 원시별 단계이다.\n",
      "\n",
      "2. 주계열성 단계에서 별은 내부의 중력과 외부로 나가는 방사압이 균형을 이루지 못하며 진동을 반복하나요? (O)\n",
      "   설명: 주계열성 단계에서 별은 내부의 중력과 외부로 나가는 방사압이 균형을 이루지 못하며 진동을 반복한다.\n",
      "\n",
      "3. 질량이 클수록 별의 수명이 짧아지고 온도는 높아지나요? (X)\n",
      "   설명: 질량이 클수록 별의 수명이 길어지고 온도는 낮아진다.\n",
      "\n",
      "4. 거성 또는 초거성 단계에서 중심부의 수소가 모두 소모되면 별 전체가 서서히 수축하며 적색 거성 또는 초거성이 되나요? (O)\n",
      "   설명: 거성 또는 초거성 단계에서 중심부의 수소가 모두 소모되면 별 전체가 서서히 수축하며 적색 거성 또는 초거성이 된다.\n",
      "\n",
      "5. 질량이 큰 별은 헬륨 이후에도 탄소, 산소, 규소 등을 융합하며 금까지 생성하지 않나요? (O)\n",
      "   설명: 질량이 큰 별은 헬륨 이후에도 탄소, 산소, 규소 등을 융합하며 금까지 생성할 수 있다.\n",
      "7.6500465869903564\n"
     ]
    }
   ],
   "source": [
    "def provide_feedback(input_text):\n",
    "    # LLM을 이용해 피드백 요청\n",
    "    llm = ChatUpstage(api_key=UPSTAGE_API_KEY,model=\"solar-pro\")\n",
    "    \n",
    "    prompt = f\"\"\"\n",
    "    아래 텍스트를 기반으로 수능 수준의 O/X 퀴즈 5개를 만들어주세요. \n",
    "    다음 조건을 충족해야 합니다:\n",
    "    1. 질문은 개념 이해와 문제 해결 능력을 평가할 수 있어야 합니다.\n",
    "    2. 정답이 \"O\"인 문제와 \"X\"인 문제의 비율은 균형 있게 구성해주세요.\n",
    "    3. 질문의 난이도는 수능 수준에 맞춰 구체적이고 사고를 요하는 내용을 포함해야 합니다.\n",
    "    4. 각 질문의 정답에 대한 설명은 간결하지만 충분히 납득 가능하게 작성해주세요.\n",
    "    \n",
    "    텍스트: {input_text}\n",
    "    \"\"\"\n",
    "\n",
    "    # LLM 호출\n",
    "    response = llm.invoke(prompt)\n",
    "    \n",
    "    # 전체 응답을 그대로 반환\n",
    "    return response.content\n",
    "\n",
    "start = time.time()\n",
    "# 피드백 제공\n",
    "feedback = provide_feedback(text)\n",
    "\n",
    "# 전체 피드백 출력\n",
    "print(feedback)\n",
    "\n",
    "end = time.time()\n",
    "print(end-start)"
   ]
  },
  {
   "cell_type": "code",
   "execution_count": 38,
   "metadata": {},
   "outputs": [
    {
     "name": "stdout",
     "output_type": "stream",
     "text": [
      "LangSmith 추적을 시작합니다.\n",
      "[프로젝트명]\n",
      "tag-test\n",
      "1. 태양계가 형성되는 과정에서 성운이 수축하면서 회전하는 것이 중요한 역할을 한다. (O/X)\n",
      "   정답: O\n",
      "   설명: 성운이 수축하면서 회전하는 과정에서 밀도 차이가 발생하고, 중심부가 차가워지며 밀도가 높아져 원시별이 형성된다.\n",
      "\n",
      "2. 태양계의 형성 과정에서 초신성 폭발은 성운에 충격을 주어 밀도 차이를 발생시키지 않는다. (O/X)\n",
      "   정답: X\n",
      "   설명: 초신성 폭발은 성운에 충격을 주어 밀도 차이를 발생시키고, 밀도가 높은 부분이 자체 중력으로 수축하여 별이 형성되는 과정을 촉진한다.\n",
      "\n",
      "3. 별의 형성 과정에서 원시별 단계는 핵융합 반응이 바로 시작되며 중심부 온도가 약 1천만 K로 상승하는 단계이다. (O/X)\n",
      "   정답: O\n",
      "   설명: 원시별 단계는 핵융합 반응이 바로 시작되며 중심부 온도가 약 1천만 K로 상승하는 단계이다.\n",
      "\n",
      "4. 주계열성 단계에서 별은 내부의 중력과 외부로 나가는 방사압이 균형을 이루며 진동을 반복한다. (O/X)\n",
      "   정답: X\n",
      "   설명: 주계열성 단계에서 별은 내부의 중력과 외부로 나가는 방사압이 균형을 이룬다. 진동은 거성 또는 초거성 단계에서 발생한다.\n",
      "\n",
      "5. 핵융합 종료 후 부풀어오르는 거성 또는 초거성 단계에서 질량이 큰 별은 헬륨 이후에도 탄소, 산소, 규소 등을 융합하며 금까지 생성한다. (O/X)\n",
      "   정답: O\n",
      "   설명: 핵융합 종료 후 부풀어오르는 거성 또는 초거성 단계에서 질량이 큰 별은 헬륨 이후에도 탄소, 산소, 규소 등을 융합하며 금까지 생성한다.\n",
      "time: 12.73697280883789\n"
     ]
    }
   ],
   "source": [
    "def analysis_chunk(input_data):\n",
    "    # LangSmith 시작\n",
    "    langsmith(\"rag-test\")\n",
    "    db_index_name = \"dev-02\"\n",
    "\n",
    "    # Pinecone 연결\n",
    "    pc = Pinecone()\n",
    "    index = pc.Index(db_index_name)\n",
    "    embeddings = UpstageEmbeddings(model=\"embedding-query\")\n",
    "    vectorstore = PineconeVectorStore(index=index, embedding=embeddings)\n",
    "\n",
    "    # 검색기(Retriever) 생성\n",
    "    retriever = vectorstore.as_retriever()\n",
    "\n",
    "    # 입력 데이터와 관련된 정보 검색\n",
    "    retrieved_docs = retriever.invoke(input_data)\n",
    "    doc = retrieved_docs[0]\n",
    "    doc_context = doc.page_content\n",
    "    rag_id = doc.id\n",
    "\n",
    "    # 프롬프트 템플릿 생성 (피드백 형식)\n",
    "    prompt = PromptTemplate.from_template(\n",
    "        \"\"\"\n",
    "        아래 텍스트를 기반으로 수능 수준의 O/X 퀴즈 5개를 만들어주세요. \n",
    "        다음 조건을 충족해야 합니다:\n",
    "        1. 질문은 개념 이해와 문제 해결 능력을 평가할 수 있어야 합니다.\n",
    "        2. 정답이 \"O\"인 문제와 \"X\"인 문제의 비율은 균형 있게 구성해주세요.\n",
    "        3. 질문의 난이도는 수능 수준에 맞춰 구체적이고 사고를 요하는 내용을 포함해야 합니다.\n",
    "        4. 각 질문의 정답에 대한 설명은 간결하지만 충분히 납득 가능하게 작성해주세요.\n",
    "    \n",
    "\n",
    "        #정보:\n",
    "        {context}\n",
    "\n",
    "        #입력:\n",
    "        {question}\n",
    "\n",
    "        #답:\"\"\"\n",
    "    )\n",
    "    \n",
    "    # 언어모델(LLM) 생성\n",
    "    llm = ChatUpstage(model=\"solar-pro\")\n",
    "    \n",
    "    # RAG: 문서 검색 후 피드백 생성\n",
    "    chain = {\"context\": RunnablePassthrough(), \"question\": RunnablePassthrough()} | prompt | llm | StrOutputParser()\n",
    "    \n",
    "    # RAG 체인 실행\n",
    "    response = chain.invoke({\"context\": doc_context, \"question\": input_data})\n",
    "\n",
    "    # 결과 반환\n",
    "    return {\n",
    "        \"rag_id\": rag_id,\n",
    "        \"response\": response,\n",
    "    }\n",
    "\n",
    "start = time.time()\n",
    "# 피드백 제공\n",
    "feedback = analysis_chunk(text)\n",
    "\n",
    "# 전체 피드백 출력\n",
    "print(feedback['response'])\n",
    "end = time.time()\n",
    "print(f'time: {end-start}')"
   ]
  }
 ],
 "metadata": {
  "kernelspec": {
   "display_name": "langchain-kr-m1kd41cE-py3.11",
   "language": "python",
   "name": "python3"
  },
  "language_info": {
   "codemirror_mode": {
    "name": "ipython",
    "version": 3
   },
   "file_extension": ".py",
   "mimetype": "text/x-python",
   "name": "python",
   "nbconvert_exporter": "python",
   "pygments_lexer": "ipython3",
   "version": "3.11.9"
  }
 },
 "nbformat": 4,
 "nbformat_minor": 2
}
