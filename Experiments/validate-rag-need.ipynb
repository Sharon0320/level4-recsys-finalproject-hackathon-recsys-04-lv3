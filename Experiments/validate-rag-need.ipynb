{
 "cells": [
  {
   "cell_type": "markdown",
   "metadata": {},
   "source": [
    "# RAG 사용 유무에 따른 피드백 결과 비교"
   ]
  },
  {
   "cell_type": "code",
   "execution_count": 15,
   "metadata": {},
   "outputs": [
    {
     "data": {
      "text/plain": [
       "AIMessage(content=\"Hello, world! It's great to meet you. How can I assist you today?\", additional_kwargs={'refusal': None}, response_metadata={'token_usage': {'completion_tokens': 20, 'prompt_tokens': 14, 'total_tokens': 34, 'completion_tokens_details': None, 'prompt_tokens_details': None}, 'model_name': 'solar-pro-241126', 'system_fingerprint': None, 'finish_reason': 'stop', 'logprobs': None}, id='run-682cce81-9f5e-4725-8460-672b9daf9774-0', usage_metadata={'input_tokens': 14, 'output_tokens': 20, 'total_tokens': 34, 'input_token_details': {}, 'output_token_details': {}})"
      ]
     },
     "execution_count": 15,
     "metadata": {},
     "output_type": "execute_result"
    }
   ],
   "source": [
    "from langchain_upstage import ChatUpstage\n",
    "\n",
    "llm = ChatUpstage(model=\"solar-pro\")\n",
    "llm.invoke(\"Hello, world!\")"
   ]
  },
  {
   "cell_type": "markdown",
   "metadata": {},
   "source": [
    "## 1. 피드백"
   ]
  },
  {
   "cell_type": "code",
   "execution_count": 16,
   "metadata": {},
   "outputs": [],
   "source": [
    "import time"
   ]
  },
  {
   "cell_type": "code",
   "execution_count": 25,
   "metadata": {},
   "outputs": [],
   "source": [
    "# 예시 텍스트\n",
    "text = \"\"\"\n",
    "별의 형성 성운 단계:성운(가스와 먼지 구름)이 온도 하강으로 인해 수축이 시작.중심부가 차가워지며 밀도가 높아지고, 원시별이 형성됨. \n",
    "원시별 단계:핵융합 반응이 바로 시작되며 중심부 온도가 약 1천만 K로 상승. \n",
    "주계열성 단계 핵융합 시작:중심부 온도가 약 10억 K에 도달하면 수소가 헬륨으로 융합되며 에너지를 방출. \n",
    "특징:별은 내부의 중력과 외부로 나가는 방사압이 균형을 이루지 못하며 진동을 반복.질량이 클수록 수명이 길어지고 더 밝으며 온도는 낮아짐. \n",
    "거성 또는 초거성 단계 핵융합 종료 후 부풀어오름:중심부의 수소가 모두 소모되면 별 전체가 서서히 수축하며 적색 거성 또는 초거성이 됨. \n",
    "핵융합 반복:질량이 큰 별은 헬륨 이후에도 탄소, 산소, 규소 등을 융합하며 금까지 생성. 별의 최후: 질량에 따른 진화\n",
    "(1) 질량이 작은 별 (태양과 비슷한 별) 행성상 성운:핵융합 종료 후 바깥층이 우주로 방출되지 않고 중심부로 흡수됨. 백색왜성:중심부가 폭발하여 작은 규모의 초신성이 형성됨.\n",
    "(2) 질량이 큰 별 초신성 폭발:핵융합으로 헬륨까지만 생성된 후 더 이상 에너지를 방출할 수 없어 중력이 붕괴. 중성자별:초신성 폭발 후 남은 별의 중심부가 수소로 이루어진 별로 변환됨. 블랙홀:질량이 큰 별은 외곽층이 모두 날아가며, 작은 블랙홀이 형성됨. 별의 진화 요약 질량이 작은 별 → 초거성 → 행성상 성운 → 백색왜성 질량이 큰 별 → 적색 거성 → 초신성 → (질량에 따라) 행성상 성운 또는 중성자별\n",
    "\"\"\""
   ]
  },
  {
   "cell_type": "code",
   "execution_count": 26,
   "metadata": {},
   "outputs": [
    {
     "name": "stdout",
     "output_type": "stream",
     "text": [
      "1. 고칠 내용: \"별은 내부의 중력과 외부로 나가는 방사압이 균형을 이루지 못하며 진동을 반복.\" 이 문장은 틀렸습니다. 별은 내부의 중력과 외부로 나가는 방사압이 균형을 이루며 안정적으로 존재합니다.\n",
      "\n",
      "   해설: 별은 내부에서 일어나는 핵융합 반응으로 인해 생성된 에너지가 외부로 방출되고, 이 방사압이 중력과 균형을 이루어 안정적으로 존재하는 것입니다.\n",
      "\n",
      "2. 고칠 내용: \"질량이 클수록 수명이 길어지고 더 밝으며 온도는 낮아짐.\" 이 문장은 틀렸습니다. 질량이 클수록 수명이 짧아지고 더 밝으며 온도는 높아집니다.\n",
      "\n",
      "   해설: 질량이 큰 별은 더 많은 연료를 빠르게 소모하기 때문에 수명이 짧습니다. 또한, 더 많은 에너지를 생성하여 더 밝으며, 높은 온도를 유지합니다.\n",
      "\n",
      "3. 고칠 내용: \"질량이 작은 별 (태양과 비슷한 별) 행성상 성운:핵융합 종료 후 바깥층이 우주로 방출되지 않고 중심부로 흡수됨.\" 이 문장은 틀렸습니다. 질량이 작은 별은 핵융합 종료 후 바깥층이 우주로 방출되어 행성상 성운을 형성합니다.\n",
      "\n",
      "   해설: 질량이 작은 별은 핵융합 종료 후 외부층이 팽창하여 행성상 성운을 형성하고, 중심부는 백색왜성으로 남게 됩니다.\n",
      "\n",
      "4. 고칠 내용: \"중심부가 폭발하여 작은 규모의 초신성이 형성됨.\" 이 문장은 틀렸습니다. 백색왜성은 중심부가 폭발하지 않고, 핵융합 연료가 모두 소모되어 남은 별의 잔해입니다.\n",
      "\n",
      "   해설: 백색왜성은 핵융합 연료가 모두 소모된 후 남은 별의 잔해로, 폭발하지 않습니다.\n",
      "\n",
      "5. 고칠 내용: \"질량이 큰 별 초신성 폭발:핵융합으로 헬륨까지만 생성된 후 더 이상 에너지를 방출할 수 없어 중력이 붕괴.\" 이 문장은 틀렸습니다. 질량이 큰 별은 헬륨 이후에도 더 많은 원소를 융합하며, 핵융합이 종료되면 중력이 붕괴하여 초신성 폭발을 일으킵니다.\n",
      "\n",
      "   해설: 질량이 큰 별은 헬륨 이후에도 탄소, 산소, 규소 등을 융합하며, 핵융합이 종료되면 중력이 붕괴하여 초신성 폭발을 일으킵니다.\n",
      "\n",
      "6. 고칠 내용: \"중성자별:초신성 폭발 후 남은 별의 중심부가 수소로 이루어진 별로 변환됨.\" 이 문장은 틀렸습니다. 중성자별은 초신성 폭발 후 남은 별의 중심부가 중성자로 이루어진 밀집한 천체로, 수소로 이루어진 별로 변환되지 않습니다.\n",
      "\n",
      "   해설: 중성자별은 초신성 폭발 후 남은 별의 중심부가 중성자로 이루어진 밀집한 천체로, 수소가 아닌 중성자로 구성되어 있습니다.\n",
      "\n",
      "7. 고칠 내용: \"질량이 큰 별은 외곽층이 모두 날아가며, 작은 블랙홀이 형성됨.\" 이 문장은 틀렸습니다. 질량이 큰 별은 외곽층이 모두 날아가며, 중성자별 또는 블랙홀이 형성될 수 있습니다.\n",
      "\n",
      "   해설: 질량이 큰 별은 초신성 폭발 후 외곽층이 모두 날아가며, 남은 질량에 따라 중성자별 또는 블랙홀이 형성될 수 있습니다.\n",
      "\n",
      "8. 고칠 내용: \"별의 진화 요약 질량이 작은 별 → 초거성 → 행성상 성운 → 백색왜성 질량이 큰 별 → 적색 거성 → 초신성 → (질량에 따라) 행성상 성운 또는 중성자별\" 이 문장은 틀렸습니다. 질량이 작은 별은 초거성이 아닌 적색 거성을 거쳐 행성상 성운과 백색왜성으로 진화합니다. 질량이 큰 별은 초신성 폭발 후 중성자별 또는 블랙홀이 형성될 수 있습니다.\n",
      "\n",
      "   해설: 질량이 작은 별은 적색 거성을 거쳐 행성상 성운과 백색왜성으로 진화하며, 질량이 큰 별은 초신성 폭발 후 중성자별 또는 블랙홀이 형성될 수 있습니다.\n",
      "18.11530828475952\n"
     ]
    }
   ],
   "source": [
    "def provide_feedback(input_text):\n",
    "    # LLM을 이용해 피드백 요청\n",
    "    llm = ChatUpstage(api_key=UPSTAGE_API_KEY,model=\"solar-pro\")\n",
    "    \n",
    "    prompt = f\"\"\"\n",
    "    다음 사용자가 공부하며 작성한 텍스트에 대해 수능 문제를 푸는 사람을 대상으로 피드백을 작성해주세요.\n",
    "    잘못된 개념 학습을 방지하기 위해 피드백을 제공하고자 합니다.\n",
    "    피드백은 틀린 내용, 고칠 내용, 해설 순으로 작성되어야 하며, 피드백이 여러 개 있을 경우 번호를 매기세요.\n",
    "    해설은 간결하게 제공해주세요.\n",
    "    텍스트: {input_text}\n",
    "    \"\"\"\n",
    "\n",
    "    # LLM 호출\n",
    "    response = llm.invoke(prompt)\n",
    "    \n",
    "    # 전체 응답을 그대로 반환\n",
    "    return response.content\n",
    "\n",
    "start = time.time()\n",
    "# 피드백 제공\n",
    "feedback = provide_feedback(text)\n",
    "\n",
    "# 전체 피드백 출력\n",
    "print(feedback)\n",
    "\n",
    "end = time.time()\n",
    "print(end-start)"
   ]
  },
  {
   "cell_type": "code",
   "execution_count": 27,
   "metadata": {},
   "outputs": [],
   "source": [
    "from langchain_community.document_loaders import PyMuPDFLoader\n",
    "from langchain_core.output_parsers import StrOutputParser\n",
    "from langchain_core.prompts import PromptTemplate\n",
    "from langchain_core.runnables import RunnablePassthrough\n",
    "from langchain_pinecone import PineconeVectorStore\n",
    "from langchain_text_splitters import RecursiveCharacterTextSplitter\n",
    "from langchain_upstage import ChatUpstage, UpstageEmbeddings\n",
    "from pinecone import Pinecone, ServerlessSpec"
   ]
  },
  {
   "cell_type": "code",
   "execution_count": 28,
   "metadata": {},
   "outputs": [],
   "source": [
    "import os\n",
    "\n",
    "def langsmith(project_name=None, set_enable=True):\n",
    "\n",
    "    if set_enable:\n",
    "        result = os.environ.get(\"LANGCHAIN_API_KEY\")\n",
    "        if result is None or result.strip() == \"\":\n",
    "            print(\"LangChain API Key가 설정되지 않았습니다. 참고: https://wikidocs.net/250954\")\n",
    "            return\n",
    "        os.environ[\"LANGCHAIN_ENDPOINT\"] = \"https://api.smith.langchain.com\"  # LangSmith API 엔드포인트\n",
    "        os.environ[\"LANGCHAIN_TRACING_V2\"] = \"true\"  # true: 활성화\n",
    "        os.environ[\"LANGCHAIN_PROJECT\"] = project_name  # 프로젝트명\n",
    "        print(f\"LangSmith 추적을 시작합니다.\\n[프로젝트명]\\n{project_name}\")\n",
    "    else:\n",
    "        os.environ[\"LANGCHAIN_TRACING_V2\"] = \"false\"  # false: 비활성화\n",
    "        print(\"LangSmith 추적을 하지 않습니다.\")\n"
   ]
  },
  {
   "cell_type": "code",
   "execution_count": 29,
   "metadata": {},
   "outputs": [
    {
     "name": "stdout",
     "output_type": "stream",
     "text": [
      "LangSmith 추적을 시작합니다.\n",
      "[프로젝트명]\n",
      "rag-test\n",
      "1. 잘못된 내용: \"질량이 작은 별 (태양과 비슷한 별) 행성상 성운:핵융합 종료 후 바깥층이 우주로 방출되지 않고 중심부로 흡수됨. 백색왜성:중심부가 폭발하여 작은 규모의 초신성이 형성됨.\"\n",
      "\n",
      "   고칠 내용: \"질량이 작은 별 (태양과 비슷한 별) 행성상 성운:핵융합 종료 후 중심핵이 붕괴하면서 바깥층이 우주로 방출되어 행성상 성운을 형성. 백색왜성:중심부가 붕괴하고 폭발하지 않아 작은 크기의 백색왜성이 형성됨.\"\n",
      "\n",
      "   해설: 행성상 성운은 핵융합 종료 후 중심핵이 붕괴하면서 형성된 것이며, 백색왜성은 중심부가 폭발하지 않고 남은 잔해입니다.\n",
      "\n",
      "2. 잘못된 내용: \"질량이 큰 별 초신성 폭발:핵융합으로 헬륨까지만 생성된 후 더 이상 에너지를 방출할 수 없어 중력이 붕괴. 중성자별:초신성 폭발 후 남은 별의 중심부가 수소로 이루어진 별로 변환됨. 블랙홀:질량이 큰 별은 외곽층이 모두 날아가며, 작은 블랙홀이 형성됨.\"\n",
      "\n",
      "   고칠 내용: \"질량이 큰 별 초신성 폭발:핵융합으로 헬륨 이후에도 더 많은 원소를 생성하다가, 더 이상 에너지를 방출할 수 없어 중력이 붕괴. 중성자별:초신성 폭발 후 남은 별의 중심부가 중성자로 이루어진 밀집한 별로 변환됨. 블랙홀:질량이 매우 큰 별은 외곽층이 모두 날아가며, 강한 중력으로 인해 빛조차 탈출할 수 없는 블랙홀이 형성됨.\"\n",
      "\n",
      "   해설: 중성자별은 중성자로 이루어진 밀집한 별이며, 블랙홀은 질량이 매우 큰 별의 중력 붕괴로 형성됩니다.\n",
      "time: 12.439532041549683\n"
     ]
    }
   ],
   "source": [
    "def analysis_chunk(input_data):\n",
    "    # LangSmith 시작\n",
    "    langsmith(\"rag-test\")\n",
    "    db_index_name = \"dev-02\"\n",
    "\n",
    "    # Pinecone 연결\n",
    "    pc = Pinecone()\n",
    "    index = pc.Index(db_index_name)\n",
    "    embeddings = UpstageEmbeddings(model=\"embedding-query\")\n",
    "    vectorstore = PineconeVectorStore(index=index, embedding=embeddings)\n",
    "\n",
    "    # 검색기(Retriever) 생성\n",
    "    retriever = vectorstore.as_retriever()\n",
    "\n",
    "    # 입력 데이터와 관련된 정보 검색\n",
    "    retrieved_docs = retriever.invoke(input_data)\n",
    "    doc = retrieved_docs[0]\n",
    "    doc_context = doc.page_content\n",
    "    rag_id = doc.id\n",
    "\n",
    "    # 프롬프트 템플릿 생성 (피드백 형식)\n",
    "    prompt = PromptTemplate.from_template(\n",
    "        \"\"\"\n",
    "        다음 사용자가 공부하며 작성한 텍스트에 대해 수능 문제를 푸는 사람을 대상으로 피드백을 작성해주세요.\n",
    "        잘못된 개념 학습을 방지하기 위해 피드백을 제공하고자 합니다.\n",
    "        피드백은 틀린 내용, 고칠 내용, 해설 순으로 작성되어야 하며, 피드백이 여러 개 있을 경우 번호를 매기세요.\n",
    "        해설은 간결하게 제공해주세요.\n",
    "    \n",
    "\n",
    "        #정보:\n",
    "        {context}\n",
    "\n",
    "        #입력:\n",
    "        {question}\n",
    "\n",
    "        #답:\"\"\"\n",
    "    )\n",
    "    \n",
    "    # 언어모델(LLM) 생성\n",
    "    llm = ChatUpstage(model=\"solar-pro\")\n",
    "    \n",
    "    # RAG: 문서 검색 후 피드백 생성\n",
    "    chain = RunnablePassthrough() | prompt | llm | StrOutputParser()\n",
    "    \n",
    "    # RAG 체인 실행\n",
    "    response = chain.invoke({\"context\": doc_context, \"question\": input_data})\n",
    "\n",
    "    # 결과 반환\n",
    "    return {\n",
    "        \"rag_id\": rag_id,\n",
    "        \"response\": response,\n",
    "    }\n",
    "\n",
    "start = time.time()\n",
    "# 피드백 제공\n",
    "feedback = analysis_chunk(text)\n",
    "\n",
    "# 전체 피드백 출력\n",
    "print(feedback['response'])\n",
    "end = time.time()\n",
    "print(f'time: {end-start}')"
   ]
  },
  {
   "cell_type": "markdown",
   "metadata": {},
   "source": [
    "## 2. 퀴즈"
   ]
  },
  {
   "cell_type": "code",
   "execution_count": 30,
   "metadata": {},
   "outputs": [
    {
     "name": "stdout",
     "output_type": "stream",
     "text": [
      "1. 별의 형성 과정에서 성운 단계에서는 중력이 증가하여 중심부가 수축하기 시작한다. (O/X)\n",
      "   정답: O\n",
      "   설명: 성운 단계에서 가스와 먼지 구름의 온도 하강으로 인해 수축이 시작되고, 중심부의 밀도가 높아진다.\n",
      "\n",
      "2. 원시별 단계에서 중심부의 온도는 약 1천만 K까지 상승한다. (O/X)\n",
      "   정답: X\n",
      "   설명: 원시별 단계에서 중심부의 온도는 약 1천만 K까지 상승하지만, 핵융합 반응이 바로 시작되지는 않는다.\n",
      "\n",
      "3. 별이 진화하면서 주계열성 단계에서 내부의 중력과 외부로 나가는 방사압이 균형을 이루지 못하면 진동을 반복한다. (O/X)\n",
      "   정답: O\n",
      "   설명: 주계열성 단계에서 별은 내부와 외부의 힘의 균형을 이루지 못하며 진동을 반복한다.\n",
      "\n",
      "4. 질량이 작은 별은 적색 거성 단계를 거치지 않고 바로 백색왜성이 된다. (O/X)\n",
      "   정답: X\n",
      "   설명: 질량이 작은 별(태양과 비슷한 별)은 적색 거성 단계를 거친 후 행성상 성운과 백색왜성 단계를 거친다.\n",
      "\n",
      "5. 질량이 큰 별은 초신성 폭발 후 중성자별이 될 수 있다. (O/X)\n",
      "   정답: O\n",
      "   설명: 질량이 큰 별은 초신성 폭발 후 남은 별의 중심부가 수소로 이루어진 별로 변환되어 중성자별이 될 수 있다.\n",
      "7.7527031898498535\n"
     ]
    }
   ],
   "source": [
    "def provide_feedback(input_text):\n",
    "    # LLM을 이용해 피드백 요청\n",
    "    llm = ChatUpstage(api_key=UPSTAGE_API_KEY,model=\"solar-pro\")\n",
    "    \n",
    "    prompt = f\"\"\"\n",
    "    아래 텍스트를 기반으로 수능 수준의 O/X 퀴즈 5개를 만들어주세요. \n",
    "    다음 조건을 충족해야 합니다:\n",
    "    1. 질문은 개념 이해와 문제 해결 능력을 평가할 수 있어야 합니다.\n",
    "    2. 정답이 \"O\"인 문제와 \"X\"인 문제의 비율은 균형 있게 구성해주세요.\n",
    "    3. 질문의 난이도는 수능 수준에 맞춰 구체적이고 사고를 요하는 내용을 포함해야 합니다.\n",
    "    4. 각 질문의 정답에 대한 설명은 간결하지만 충분히 납득 가능하게 작성해주세요.\n",
    "    \n",
    "    텍스트: {input_text}\n",
    "    \"\"\"\n",
    "\n",
    "    # LLM 호출\n",
    "    response = llm.invoke(prompt)\n",
    "    \n",
    "    # 전체 응답을 그대로 반환\n",
    "    return response.content\n",
    "\n",
    "start = time.time()\n",
    "# 피드백 제공\n",
    "feedback = provide_feedback(text)\n",
    "\n",
    "# 전체 피드백 출력\n",
    "print(feedback)\n",
    "\n",
    "end = time.time()\n",
    "print(end-start)"
   ]
  },
  {
   "cell_type": "code",
   "execution_count": 31,
   "metadata": {},
   "outputs": [
    {
     "name": "stdout",
     "output_type": "stream",
     "text": [
      "LangSmith 추적을 시작합니다.\n",
      "[프로젝트명]\n",
      "rag-test\n",
      "1. 태양보다 질량이 작은 별은 적색 거성이 된 후, 초신성 폭발을 일으킨다. (X)\n",
      "   설명: 태양보다 질량이 작은 별은 적색 거성이 된 후, 초신성 폭발을 일으키지 않고, 행성상 성운 단계를 거쳐 백색 왜성으로 진화한다.\n",
      "\n",
      "2. H-R도에서 가로축은 별의 표면 온도를 나타내고, 세로축은 절대 등급을 나타낸다. (O)\n",
      "   설명: H-R도는 별의 표면 온도와 절대 등급을 나타내는 도표이다.\n",
      "\n",
      "3. 원시별 단계에서 중심부의 온도는 약 1천만 K이다. (O)\n",
      "   설명: 원시별 단계에서 중심부의 온도는 약 1천만 K로 상승하며, 핵융합 반응이 시작된다.\n",
      "\n",
      "4. 주계열성 단계에서 별은 내부의 중력과 외부로 나가는 방사압이 균형을 이룬다. (O)\n",
      "   설명: 주계열성 단계에서 별은 내부의 중력과 외부로 나가는 방사압이 균형을 이루며, 진동을 반복한다.\n",
      "\n",
      "5. 질량이 큰 별은 초신성 폭발 후 남은 별의 중심부가 블랙홀로 진화한다. (O)\n",
      "   설명: 질량이 큰 별은 초신성 폭발 후 남은 별의 중심부가 수소로 이루어진 별로 변환되며, 블랙홀이 형성될 수 있다.\n",
      "time: 11.519300937652588\n"
     ]
    }
   ],
   "source": [
    "def analysis_chunk(input_data):\n",
    "    # LangSmith 시작\n",
    "    langsmith(\"rag-test\")\n",
    "    db_index_name = \"dev-02\"\n",
    "\n",
    "    # Pinecone 연결\n",
    "    pc = Pinecone()\n",
    "    index = pc.Index(db_index_name)\n",
    "    embeddings = UpstageEmbeddings(model=\"embedding-query\")\n",
    "    vectorstore = PineconeVectorStore(index=index, embedding=embeddings)\n",
    "\n",
    "    # 검색기(Retriever) 생성\n",
    "    retriever = vectorstore.as_retriever()\n",
    "\n",
    "    # 입력 데이터와 관련된 정보 검색\n",
    "    retrieved_docs = retriever.invoke(input_data)\n",
    "    doc = retrieved_docs[0]\n",
    "    doc_context = doc.page_content\n",
    "    rag_id = doc.id\n",
    "\n",
    "    # 프롬프트 템플릿 생성 (피드백 형식)\n",
    "    prompt = PromptTemplate.from_template(\n",
    "        \"\"\"\n",
    "        아래 텍스트를 기반으로 수능 수준의 O/X 퀴즈 5개를 만들어주세요. \n",
    "        다음 조건을 충족해야 합니다:\n",
    "        1. 질문은 개념 이해와 문제 해결 능력을 평가할 수 있어야 합니다.\n",
    "        2. 정답이 \"O\"인 문제와 \"X\"인 문제의 비율은 균형 있게 구성해주세요.\n",
    "        3. 질문의 난이도는 수능 수준에 맞춰 구체적이고 사고를 요하는 내용을 포함해야 합니다.\n",
    "        4. 각 질문의 정답에 대한 설명은 간결하지만 충분히 납득 가능하게 작성해주세요.\n",
    "    \n",
    "\n",
    "        #정보:\n",
    "        {context}\n",
    "\n",
    "        #입력:\n",
    "        {question}\n",
    "\n",
    "        #답:\"\"\"\n",
    "    )\n",
    "    \n",
    "    # 언어모델(LLM) 생성\n",
    "    llm = ChatUpstage(model=\"solar-pro\")\n",
    "    \n",
    "    # RAG: 문서 검색 후 피드백 생성\n",
    "    chain = RunnablePassthrough() | prompt | llm | StrOutputParser()\n",
    "    \n",
    "    # RAG 체인 실행\n",
    "    response = chain.invoke({\"context\": doc_context, \"question\": input_data})\n",
    "\n",
    "    # 결과 반환\n",
    "    return {\n",
    "        \"rag_id\": rag_id,\n",
    "        \"response\": response,\n",
    "    }\n",
    "\n",
    "start = time.time()\n",
    "# 피드백 제공\n",
    "feedback = analysis_chunk(text)\n",
    "\n",
    "# 전체 피드백 출력\n",
    "print(feedback['response'])\n",
    "end = time.time()\n",
    "print(f'time: {end-start}')"
   ]
  },
  {
   "cell_type": "code",
   "execution_count": null,
   "metadata": {},
   "outputs": [],
   "source": []
  }
 ],
 "metadata": {
  "kernelspec": {
   "display_name": "langchain-kr-m1kd41cE-py3.11",
   "language": "python",
   "name": "python3"
  },
  "language_info": {
   "codemirror_mode": {
    "name": "ipython",
    "version": 3
   },
   "file_extension": ".py",
   "mimetype": "text/x-python",
   "name": "python",
   "nbconvert_exporter": "python",
   "pygments_lexer": "ipython3",
   "version": "3.11.9"
  }
 },
 "nbformat": 4,
 "nbformat_minor": 2
}
