{
 "cells": [
  {
   "cell_type": "markdown",
   "metadata": {},
   "source": [
    "https://wikidocs.net/256983"
   ]
  },
  {
   "cell_type": "code",
   "execution_count": 4,
   "metadata": {},
   "outputs": [
    {
     "data": {
      "text/plain": [
       "True"
      ]
     },
     "execution_count": 4,
     "metadata": {},
     "output_type": "execute_result"
    }
   ],
   "source": [
    "# API 키를 환경변수로 관리하기 위한 설정 파일\n",
    "from dotenv import load_dotenv\n",
    "\n",
    "# API 키 정보 로드\n",
    "load_dotenv()"
   ]
  },
  {
   "cell_type": "code",
   "execution_count": 7,
   "metadata": {},
   "outputs": [
    {
     "name": "stdout",
     "output_type": "stream",
     "text": [
      "LangSmith 추적을 시작합니다.\n",
      "[프로젝트명]\n",
      "Structured-Output-Chain\n"
     ]
    }
   ],
   "source": [
    "# LangSmith 추적을 설정합니다. https://smith.langchain.com\n",
    "# !pip install langchain-teddynote\n",
    "from langchain_teddynote import logging\n",
    "\n",
    "# 프로젝트 이름을 입력합니다.\n",
    "logging.langsmith(\"Structured-Output-Chain\")"
   ]
  },
  {
   "cell_type": "code",
   "execution_count": 30,
   "metadata": {},
   "outputs": [
    {
     "name": "stdout",
     "output_type": "stream",
     "text": [
      "1. 지구과학2 시험에 출제된 문제 중, 다음 중 중력에 관련된 이론을 제시한 인물은 누구인가? (난이도: 보통)\n",
      "   1) 갈릴레오 갈릴레이\n",
      "   2) 윌리엄 핼리\n",
      "   3) 찰스 다윈\n",
      "   4) 벤자민 프랭클린\n",
      "\n",
      "2. 지구과학2에서 다루는 대륙의 이동설에 대한 설명으로 옳지 않은 것은? (난이도: 어려움)\n",
      "   1) 대륙이 뜨고 내린다.\n",
      "   2) 지각은 하나의 판으로 이루어져 있다.\n",
      "   3) 대륙은 거대한 하나의 땅덩어리였다.\n",
      "   4) 지각은 여러 개의 판으로 이루어져 있다.\n",
      "\n",
      "3. 지구과학2에서 다루는 판 구조론에 대한 설명으로 옳지 않은 것은? (난이도: 어려움)\n",
      "   1) 판은 서로 밀고 당긴다.\n",
      "   2) 판의 경계는 서로 밀고 당긴다.\n",
      "   3) 판의 경계는 서로 밀고 당긴다.\n",
      "   4) 판의 경계는 서로 밀고 당긴다.\n",
      "\n"
     ]
    }
   ],
   "source": [
    "from langchain.chains.openai_functions import create_structured_output_runnable\n",
    "# from langchain_openai import ChatOpenAI\n",
    "from langchain_upstage import ChatUpstage\n",
    "from langchain_core.prompts import ChatPromptTemplate\n",
    "from langchain_core.pydantic_v1 import BaseModel, Field\n",
    "from typing import List\n",
    "\n",
    "\n",
    "class Quiz(BaseModel):\n",
    "    \"\"\"4지선다형 퀴즈의 정보를 추출합니다\"\"\"\n",
    "\n",
    "    question: str = Field(..., description=\"퀴즈의 질문\")\n",
    "    level: str = Field(\n",
    "        ..., description=\"퀴즈의 난이도를 나타냅니다. (쉬움, 보통, 어려움)\"\n",
    "    )\n",
    "    options: List[str] = Field(..., description=\"퀴즈의 4개의 선택지 입니다.\")\n",
    "\n",
    "\n",
    "llm = ChatUpstage(model=\"solar-pro\", temperature=0.8)\n",
    "prompt = ChatPromptTemplate.from_messages(\n",
    "    [\n",
    "        (\n",
    "            \"system\",\n",
    "            \"You're a world-famous quizzer and generates quizzes in structured formats.\",\n",
    "        ),\n",
    "        (\n",
    "            \"human\",\n",
    "            \"TOPIC 에 제시된 내용과 관련한 4지선다형 퀴즈를 한국어로 출제해 주세요. 만약, 실제 출제된 기출문제가 있다면 비슷한 문제를 만들어 출제하세요.\"\n",
    "            \"단, 문제에 TOPIC 에 대한 내용이나 정보는 포함하지 마세요. \\nTOPIC:\\n{topic}\",\n",
    "        ),\n",
    "        (\"human\", \"Tip: Make sure to answer in the correct format\"),\n",
    "    ]\n",
    ")\n",
    "\n",
    "class QuizList(BaseModel):\n",
    "    quizzes: List[Quiz]\n",
    "\n",
    "llm_with_structured_output = llm.with_structured_output(QuizList)\n",
    "chain = prompt | llm_with_structured_output\n",
    "\n",
    "# 여러 개의 퀴즈 생성\n",
    "generated_quizzes = chain.invoke({\"topic\": \"수능 지구과학2\"})\n",
    "\n",
    "# 출력\n",
    "for idx, quiz in enumerate(generated_quizzes.quizzes, 1):\n",
    "    print(f\"{idx}. {quiz.question} (난이도: {quiz.level})\")\n",
    "    for i, opt in enumerate(quiz.options):\n",
    "        print(f\"   {i+1}) {opt}\")\n",
    "    print()"
   ]
  },
  {
   "cell_type": "code",
   "execution_count": 31,
   "metadata": {},
   "outputs": [
    {
     "name": "stdout",
     "output_type": "stream",
     "text": [
      "1. 지구는 평평한 판으로 이루어져 있다. (난이도: Easy)\n",
      "   1) X\n",
      "   2) O\n",
      "\n",
      "2. 달은 자체적인 빛을 내뿜는다. (난이도: Easy)\n",
      "   1) X\n",
      "   2) O\n",
      "\n"
     ]
    }
   ],
   "source": [
    "from langchain.chains.openai_functions import create_structured_output_runnable\n",
    "# from langchain_openai import ChatOpenAI\n",
    "from langchain_upstage import ChatUpstage\n",
    "from langchain_core.prompts import ChatPromptTemplate\n",
    "from langchain_core.pydantic_v1 import BaseModel, Field\n",
    "from typing import List\n",
    "\n",
    "\n",
    "class Quiz(BaseModel):\n",
    "    \"\"\"OX 퀴즈의 정보를 추출합니다\"\"\"\n",
    "\n",
    "    question: str = Field(..., description=\"퀴즈의 질문\")\n",
    "    level: str = Field(\n",
    "        ..., description=\"퀴즈의 난이도를 나타냅니다. (쉬움, 보통, 어려움)\"\n",
    "    )\n",
    "    options: List[str] = Field(..., description=\"퀴즈의 답은 O 또는 X 입니다.\")\n",
    "\n",
    "\n",
    "llm = ChatUpstage(model=\"solar-pro\", temperature=0.8)\n",
    "prompt = ChatPromptTemplate.from_messages(\n",
    "    [\n",
    "        (\n",
    "            \"system\",\n",
    "            \"You're a world-famous quizzer and generates quizzes in structured formats.\",\n",
    "        ),\n",
    "        (\n",
    "            \"human\",\n",
    "            \"TOPIC 에 제시된 내용과 관련한 OX 퀴즈를 한국어로 출제해 주세요. 만약, 실제 출제된 기출문제가 있다면 비슷한 문제를 만들어 출제하세요.\"\n",
    "            \"단, 문제에 TOPIC 에 대한 내용이나 정보는 포함하지 마세요. \\nTOPIC:\\n{topic}\",\n",
    "        ),\n",
    "        (\"human\", \"Tip: Make sure to answer in the correct format\"),\n",
    "    ]\n",
    ")\n",
    "\n",
    "class QuizList(BaseModel):\n",
    "    quizzes: List[Quiz]\n",
    "\n",
    "llm_with_structured_output = llm.with_structured_output(QuizList)\n",
    "chain = prompt | llm_with_structured_output\n",
    "\n",
    "# 여러 개의 퀴즈 생성\n",
    "generated_quizzes = chain.invoke({\"topic\": \"수능 지구과학2\"})\n",
    "\n",
    "# 출력\n",
    "for idx, quiz in enumerate(quiz.quizzes, 1):\n",
    "    print(f\"{idx}. {quiz.question} (난이도: {quiz.level})\")\n",
    "    for i, opt in enumerate(quiz.options):\n",
    "        print(f\"   {i+1}) {opt}\")\n",
    "    print()"
   ]
  },
  {
   "cell_type": "code",
   "execution_count": 34,
   "metadata": {},
   "outputs": [
    {
     "data": {
      "text/plain": [
       "Quiz(question='달은 자체적인 빛을 내뿜는다.', level='Easy', options=['X', 'O'])"
      ]
     },
     "execution_count": 34,
     "metadata": {},
     "output_type": "execute_result"
    }
   ],
   "source": [
    "quiz"
   ]
  },
  {
   "cell_type": "code",
   "execution_count": 42,
   "metadata": {},
   "outputs": [
    {
     "name": "stdout",
     "output_type": "stream",
     "text": [
      "1. 별의 형성에서 성운 단계는 무엇인가요? (난이도: 보통)\n",
      "   1) 질량 증가\n",
      "   2) 온도 하강\n",
      "   3) 수축\n",
      "정답: 수축\n",
      "\n",
      "2. 가스와 먼지 구름에서 수축하는 단계는 무엇인가요? (난이도: 보통)\n",
      "   1) 온도 상승\n",
      "   2) 밀도 증가\n",
      "   3) 수축\n",
      "정답: 수축\n",
      "\n",
      "3. 원시별 단계에서 어떤 일이 일어나나요? (난이도: 보통)\n",
      "   1) 핵융합 반응\n",
      "   2) 수축 과정\n",
      "   3) 질량 증가\n",
      "정답: 핵융합 반응\n",
      "\n",
      "4. 원시별 단계에서 중심부 온도는 얼마인가요? (난이도: 보통)\n",
      "   1) 1억 K\n",
      "   2) 1천만 K\n",
      "   3) 1만 K\n",
      "정답: 1천만 K\n",
      "\n",
      "5. 성운 단계에서 중심부가 차갑게 되는 단계는 무엇인가요? (난이도: 보통)\n",
      "   1) 온도 상승\n",
      "   2) 밀도 증가\n",
      "   3) 수축\n",
      "정답: 수축\n",
      "\n"
     ]
    }
   ],
   "source": [
    "from langchain_upstage import ChatUpstage\n",
    "from langchain_core.prompts import ChatPromptTemplate\n",
    "from langchain_core.pydantic_v1 import BaseModel, Field\n",
    "from typing import List\n",
    "\n",
    "class Quiz(BaseModel):\n",
    "    \"\"\"OX 퀴즈의 정보를 추출합니다\"\"\"\n",
    "    question: str = Field(..., description=\"퀴즈의 질문\")\n",
    "    level: str = Field(..., description=\"퀴즈의 난이도를 나타냅니다. (쉬움, 보통, 어려움)\")\n",
    "    options: List[str] = Field(..., description=\"퀴즈의 답은 O 또는 X 입니다.\")\n",
    "    answer: str = Field(..., description=\"정답은 O 또는 X 입니다.\")  # 정답 추가\n",
    "\n",
    "llm = ChatUpstage(model=\"solar-pro\", temperature=0.8)\n",
    "\n",
    "# 텍스트를 분석하여 관련 개념에 대한 OX 퀴즈를 생성하는 프롬프트\n",
    "prompt = ChatPromptTemplate.from_messages(\n",
    "    [\n",
    "        (\n",
    "            \"system\",\n",
    "            \"You're a quiz master who generates OX quizzes based on the provided context. Ensure the quizzes are scientifically accurate and in OX format.\",\n",
    "        ),\n",
    "        (\n",
    "            \"human\",\n",
    "            \"제공된 내용에 대해 OX 퀴즈를 5개 만들어 주세요. 텍스트 내용에서 잘못된 부분이 있으면 그것도 반영하여 출제해주세요. \\n\\nTOPIC:\\n{topic}\",\n",
    "        ),\n",
    "        (\"human\", \"Tip: Make sure to answer in the correct format.\"),\n",
    "    ]\n",
    ")\n",
    "\n",
    "class QuizList(BaseModel):\n",
    "    quizzes: List[Quiz]\n",
    "\n",
    "llm_with_structured_output = llm.with_structured_output(QuizList)\n",
    "chain = prompt | llm_with_structured_output\n",
    "\n",
    "# 주어진 내용에 대해 퀴즈 생성\n",
    "generated_quizzes = chain.invoke({\"topic\": \"별의 형성 성운 단계:성운(가스와 먼지 구름)이 온도 하강으로 인해 수축이 시작. 중심부가 차가워지며 밀도가 높아지고, 원시별이 형성됨. 원시별 단계:핵융합 반응이 바로 시작되며 중심부 온도가 약 1천만 K로 상승.\"})\n",
    "\n",
    "# 생성된 퀴즈 출력\n",
    "for idx, quiz in enumerate(generated_quizzes.quizzes, 1):\n",
    "    print(f\"{idx}. {quiz.question} (난이도: {quiz.level})\")\n",
    "    for i, opt in enumerate(quiz.options):\n",
    "        print(f\"   {i+1}) {opt}\")\n",
    "    print(f\"정답: {quiz.answer}\")  # 정답 출력\n",
    "    print()\n"
   ]
  },
  {
   "cell_type": "code",
   "execution_count": 40,
   "metadata": {},
   "outputs": [
    {
     "data": {
      "text/plain": [
       "QuizList(quizzes=[Quiz(question='별의 형성 성운 단계에서 성운은 가스와 먼지 구름의 수축으로 인해 온도가 상승하는가?', level='보통', options=['O', 'X']), Quiz(question='초기 원시별 단계에서 중심부 온도는 1천만 K로 상승하는가?', level='보통', options=['O', 'X'])])"
      ]
     },
     "execution_count": 40,
     "metadata": {},
     "output_type": "execute_result"
    }
   ],
   "source": [
    "generated_quizzes"
   ]
  }
 ],
 "metadata": {
  "kernelspec": {
   "display_name": "langchain-kr-m1kd41cE-py3.11",
   "language": "python",
   "name": "python3"
  },
  "language_info": {
   "codemirror_mode": {
    "name": "ipython",
    "version": 3
   },
   "file_extension": ".py",
   "mimetype": "text/x-python",
   "name": "python",
   "nbconvert_exporter": "python",
   "pygments_lexer": "ipython3",
   "version": "3.11.9"
  }
 },
 "nbformat": 4,
 "nbformat_minor": 2
}
