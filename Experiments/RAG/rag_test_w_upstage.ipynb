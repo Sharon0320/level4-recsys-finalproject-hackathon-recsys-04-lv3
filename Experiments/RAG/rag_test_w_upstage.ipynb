{
 "cells": [
  {
   "cell_type": "markdown",
   "metadata": {},
   "source": [
    "# RAG 베이스 코드 with 업스테이지 API"
   ]
  },
  {
   "cell_type": "code",
   "execution_count": 2,
   "metadata": {},
   "outputs": [
    {
     "data": {
      "text/plain": [
       "True"
      ]
     },
     "execution_count": 2,
     "metadata": {},
     "output_type": "execute_result"
    }
   ],
   "source": [
    "# API 키를 환경변수로 관리하기 위한 설정 파일\n",
    "from dotenv import load_dotenv\n",
    "\n",
    "# API 키 정보 로드\n",
    "load_dotenv()"
   ]
  },
  {
   "cell_type": "code",
   "execution_count": 4,
   "metadata": {},
   "outputs": [
    {
     "name": "stdout",
     "output_type": "stream",
     "text": [
      "LangSmith 추적을 시작합니다.\n",
      "[프로젝트명]\n",
      "test-RAG\n"
     ]
    }
   ],
   "source": [
    "from rag_utils import logging\n",
    "\n",
    "# 프로젝트 이름을 입력합니다.\n",
    "logging.langsmith(\"test-RAG\")"
   ]
  },
  {
   "cell_type": "code",
   "execution_count": 5,
   "metadata": {},
   "outputs": [],
   "source": [
    "from langchain_text_splitters import RecursiveCharacterTextSplitter\n",
    "from langchain_community.document_loaders import PyMuPDFLoader\n",
    "from langchain_community.vectorstores import FAISS\n",
    "from langchain_core.output_parsers import StrOutputParser\n",
    "from langchain_core.runnables import RunnablePassthrough\n",
    "from langchain_core.prompts import PromptTemplate\n",
    "from langchain_openai import ChatOpenAI, OpenAIEmbeddings"
   ]
  },
  {
   "cell_type": "code",
   "execution_count": 7,
   "metadata": {},
   "outputs": [],
   "source": [
    "import os\n",
    "import requests\n",
    "from langchain_upstage import UpstageDocumentParseLoader\n",
    "from langchain_upstage import UpstageEmbeddings\n",
    "from langchain_upstage import ChatUpstage"
   ]
  },
  {
   "cell_type": "code",
   "execution_count": 9,
   "metadata": {},
   "outputs": [
    {
     "name": "stdout",
     "output_type": "stream",
     "text": [
      "page_content='<header id='0' style='font-size:14px'>25. 1. 14. 오후 10:24</header><br><header id='1' style='font-size:14px'>고졸 성인학습자_사회</header><p id='2' data-category='list'></p><p id='3' data-category='list'></p><p id='4' data-category='list'></p><footer id='5' style='font-size:14px'>218.38.12.36/ebook/ebook/h_society/</footer><br><footer id='6' style='font-size:14px'>1/1</footer>' metadata={'total_pages': 1, 'coordinates': [[{'x': 0.0355, 'y': 0.0173}, {'x': 0.159, 'y': 0.0173}, {'x': 0.159, 'y': 0.0302}, {'x': 0.0355, 'y': 0.0302}], [{'x': 0.5143, 'y': 0.0163}, {'x': 0.6505, 'y': 0.0163}, {'x': 0.6505, 'y': 0.0309}, {'x': 0.5143, 'y': 0.0309}], [{'x': 0.2125, 'y': 0.4215}, {'x': 0.759, 'y': 0.4215}, {'x': 0.759, 'y': 0.4593}, {'x': 0.2125, 'y': 0.4593}], [{'x': 0.2356, 'y': 0.4645}, {'x': 0.7019, 'y': 0.4645}, {'x': 0.7019, 'y': 0.502}, {'x': 0.2356, 'y': 0.502}], [{'x': 0.2093, 'y': 0.5281}, {'x': 0.8371, 'y': 0.5281}, {'x': 0.8371, 'y': 0.6098}, {'x': 0.2093, 'y': 0.6098}], [{'x': 0.0364, 'y': 0.9706}, {'x': 0.2465, 'y': 0.9706}, {'x': 0.2465, 'y': 0.9834}, {'x': 0.0364, 'y': 0.9834}], [{'x': 0.9407, 'y': 0.9716}, {'x': 0.9604, 'y': 0.9716}, {'x': 0.9604, 'y': 0.9822}, {'x': 0.9407, 'y': 0.9822}]]}\n"
     ]
    }
   ],
   "source": [
    "# 단계 1: 문서 로드(Load Documents)\n",
    "\n",
    "# DP\n",
    "file_path = \"./data/고졸 성인학습자_사회_54page.pdf\"\n",
    "loader = UpstageDocumentParseLoader(file_path)\n",
    "\n",
    "pages = loader.load()  # or loader.lazy_load()\n",
    "for page in pages:\n",
    "    print(page)"
   ]
  },
  {
   "cell_type": "code",
   "execution_count": 10,
   "metadata": {},
   "outputs": [
    {
     "data": {
      "text/plain": [
       "1"
      ]
     },
     "execution_count": 10,
     "metadata": {},
     "output_type": "execute_result"
    }
   ],
   "source": [
    "len(pages)"
   ]
  },
  {
   "cell_type": "code",
   "execution_count": 11,
   "metadata": {},
   "outputs": [
    {
     "data": {
      "text/plain": [
       "\"<header id='0' style='font-size:14px'>25. 1. 14. 오후 10:24</header><br><header id='1' style='font-size:14px'>고졸 성인학습자_사회</header><p id='2' data-category='list'></p><p id='3' data-category='list'></p><p id='4' data-category='list'></p><footer id='5' style='font-size:14px'>218.38.12.36/ebook/ebook/h_society/</footer><br><footer id='6' style='font-size:14px'>1/1</footer>\""
      ]
     },
     "execution_count": 11,
     "metadata": {},
     "output_type": "execute_result"
    }
   ],
   "source": [
    "pages[0].page_content"
   ]
  },
  {
   "cell_type": "code",
   "execution_count": 12,
   "metadata": {},
   "outputs": [
    {
     "data": {
      "text/plain": [
       "{'id': None,\n",
       " 'metadata': {'total_pages': 1,\n",
       "  'coordinates': [[{'x': 0.0355, 'y': 0.0173},\n",
       "    {'x': 0.159, 'y': 0.0173},\n",
       "    {'x': 0.159, 'y': 0.0302},\n",
       "    {'x': 0.0355, 'y': 0.0302}],\n",
       "   [{'x': 0.5143, 'y': 0.0163},\n",
       "    {'x': 0.6505, 'y': 0.0163},\n",
       "    {'x': 0.6505, 'y': 0.0309},\n",
       "    {'x': 0.5143, 'y': 0.0309}],\n",
       "   [{'x': 0.2125, 'y': 0.4215},\n",
       "    {'x': 0.759, 'y': 0.4215},\n",
       "    {'x': 0.759, 'y': 0.4593},\n",
       "    {'x': 0.2125, 'y': 0.4593}],\n",
       "   [{'x': 0.2356, 'y': 0.4645},\n",
       "    {'x': 0.7019, 'y': 0.4645},\n",
       "    {'x': 0.7019, 'y': 0.502},\n",
       "    {'x': 0.2356, 'y': 0.502}],\n",
       "   [{'x': 0.2093, 'y': 0.5281},\n",
       "    {'x': 0.8371, 'y': 0.5281},\n",
       "    {'x': 0.8371, 'y': 0.6098},\n",
       "    {'x': 0.2093, 'y': 0.6098}],\n",
       "   [{'x': 0.0364, 'y': 0.9706},\n",
       "    {'x': 0.2465, 'y': 0.9706},\n",
       "    {'x': 0.2465, 'y': 0.9834},\n",
       "    {'x': 0.0364, 'y': 0.9834}],\n",
       "   [{'x': 0.9407, 'y': 0.9716},\n",
       "    {'x': 0.9604, 'y': 0.9716},\n",
       "    {'x': 0.9604, 'y': 0.9822},\n",
       "    {'x': 0.9407, 'y': 0.9822}]]},\n",
       " 'page_content': \"<header id='0' style='font-size:14px'>25. 1. 14. 오후 10:24</header><br><header id='1' style='font-size:14px'>고졸 성인학습자_사회</header><p id='2' data-category='list'></p><p id='3' data-category='list'></p><p id='4' data-category='list'></p><footer id='5' style='font-size:14px'>218.38.12.36/ebook/ebook/h_society/</footer><br><footer id='6' style='font-size:14px'>1/1</footer>\",\n",
       " 'type': 'Document'}"
      ]
     },
     "execution_count": 12,
     "metadata": {},
     "output_type": "execute_result"
    }
   ],
   "source": [
    "# matadata 확인\n",
    "pages[0].__dict__"
   ]
  },
  {
   "cell_type": "code",
   "execution_count": null,
   "metadata": {},
   "outputs": [],
   "source": []
  },
  {
   "cell_type": "code",
   "execution_count": 14,
   "metadata": {},
   "outputs": [
    {
     "name": "stdout",
     "output_type": "stream",
     "text": [
      "{'apiVersion': '1.1', 'confidence': 0.9788, 'metadata': {'pages': [{'height': 1754, 'page': 1, 'width': 1240}]}, 'mimeType': 'multipart/form-data', 'modelVersion': 'ocr-2.2.1', 'numBilledPages': 1, 'pages': [{'confidence': 0.9788, 'height': 1754, 'id': 0, 'text': '25. 1. 14. 오후 10:24 고졸 성인학습자_사회 \\nCHAPTER \\n01 산업화 · 도시화에 따른 변화 \\n학습목표 \\n· 산업화 · 도시화로 나타나는 생활 공간과 생활 양식의 변화를 알 수 있다. \\n· 산업화 · 도시화로 나타나는 문제점을 해결하는 방안을 제시할 수 있다. \\n출제 \\n산업화 · 도시화의 특징과 열섬 현상이 자주 출제된다. \\nPoint \\n01 산업화 · 도시화에 따른 변화 \\n(1) 산업화와 도시화 \\n① 산업화 \\n㉠ 의미 : 농업 중심의 사회에서 공업, 서비스업 중심으로 변화하는 현상이다. \\n특징 \\n· 산업화로 인해 공업과 서비스업의 종사자 비중이 늘어난다. \\n· 기계화와 분업으로 제품의 대량 생산과 대량 소비가 가능해졌다. \\n② 도시화 \\n㉠ 의미 : 한 국가 내에서 도시 거주 인구 비율이 높아지고 도시적 생활 양식과 도시적 경관 \\n이 확대되는 현상이다. \\n특징 : 산업화가 진행되면서 촌락에서 도시로의 인구 이동이 활발해져 도시화의 가속화 \\n에 영향을 준다. \\n③ 도시화 과정 \\n· 도시화율이 낮음 \\n초기 단계 \\n● 대부분의 인구가 촌락에 분포하고, 1차 산업에 종사함 \\n● 산업화를 계기로 이촌 향도 현상이 발생하면서 급격한 도시화가 이루어짐 \\n가속화 단계 → 2 · 3차 산업이 발달함 \\n● 대부분 개발 도상국은 가속화 단계 진행 중 \\n● 높은 도시화율을 보이며, 대도시권이 확대됨 \\n· 도시화율의 증가가 점차 느려지거나 정체되어 있음 \\n종착 단계 \\n● 도시 지역에서 비도시 지역으로 인구가 이동하는 역도시화 현상이 나타나기도 함 \\n· 선진국이 해당됨 \\n52 PART 03 생활 공간과 사회 \\n218.38.12.36/ebook/ebook/h_society/ 1/1', 'width': 1240, 'words': [{'boundingBox': {'vertices': [{'x': 48, 'y': 34}, {'x': 72, 'y': 34}, {'x': 72, 'y': 49}, {'x': 48, 'y': 49}]}, 'confidence': 0.9843, 'id': 0, 'text': '25.'}, {'boundingBox': {'vertices': [{'x': 74, 'y': 35}, {'x': 88, 'y': 35}, {'x': 88, 'y': 48}, {'x': 74, 'y': 48}]}, 'confidence': 0.9917, 'id': 1, 'text': '1.'}, {'boundingBox': {'vertices': [{'x': 91, 'y': 34}, {'x': 113, 'y': 34}, {'x': 113, 'y': 49}, {'x': 91, 'y': 49}]}, 'confidence': 0.9953, 'id': 2, 'text': '14.'}, {'boundingBox': {'vertices': [{'x': 117, 'y': 32}, {'x': 149, 'y': 32}, {'x': 149, 'y': 49}, {'x': 117, 'y': 49}]}, 'confidence': 0.9975, 'id': 3, 'text': '오후'}, {'boundingBox': {'vertices': [{'x': 154, 'y': 34}, {'x': 193, 'y': 34}, {'x': 193, 'y': 49}, {'x': 154, 'y': 49}]}, 'confidence': 0.999, 'id': 4, 'text': '10:24'}, {'boundingBox': {'vertices': [{'x': 641, 'y': 33}, {'x': 673, 'y': 32}, {'x': 674, 'y': 49}, {'x': 642, 'y': 50}]}, 'confidence': 0.994, 'id': 5, 'text': '고졸'}, {'boundingBox': {'vertices': [{'x': 678, 'y': 32}, {'x': 801, 'y': 32}, {'x': 801, 'y': 50}, {'x': 678, 'y': 50}]}, 'confidence': 0.9967, 'id': 6, 'text': '성인학습자_사회'}, {'boundingBox': {'vertices': [{'x': 265, 'y': 176}, {'x': 358, 'y': 177}, {'x': 358, 'y': 196}, {'x': 264, 'y': 195}]}, 'confidence': 0.9854, 'id': 7, 'text': 'CHAPTER'}, {'boundingBox': {'vertices': [{'x': 256, 'y': 223}, {'x': 363, 'y': 221}, {'x': 364, 'y': 305}, {'x': 257, 'y': 306}]}, 'confidence': 0.9953, 'id': 8, 'text': '01'}, {'boundingBox': {'vertices': [{'x': 406, 'y': 232}, {'x': 528, 'y': 232}, {'x': 528, 'y': 277}, {'x': 406, 'y': 277}]}, 'confidence': 0.9812, 'id': 9, 'text': '산업화'}, {'boundingBox': {'vertices': [{'x': 542, 'y': 246}, {'x': 554, 'y': 245}, {'x': 554, 'y': 258}, {'x': 542, 'y': 259}]}, 'confidence': 0.874, 'id': 10, 'text': '·'}, {'boundingBox': {'vertices': [{'x': 572, 'y': 231}, {'x': 730, 'y': 231}, {'x': 730, 'y': 276}, {'x': 572, 'y': 276}]}, 'confidence': 0.9933, 'id': 11, 'text': '도시화에'}, {'boundingBox': {'vertices': [{'x': 744, 'y': 232}, {'x': 824, 'y': 232}, {'x': 824, 'y': 276}, {'x': 744, 'y': 276}]}, 'confidence': 0.9905, 'id': 12, 'text': '따른'}, {'boundingBox': {'vertices': [{'x': 837, 'y': 232}, {'x': 916, 'y': 232}, {'x': 916, 'y': 276}, {'x': 837, 'y': 276}]}, 'confidence': 0.9902, 'id': 13, 'text': '변화'}, {'boundingBox': {'vertices': [{'x': 276, 'y': 360}, {'x': 345, 'y': 360}, {'x': 345, 'y': 381}, {'x': 276, 'y': 381}]}, 'confidence': 0.9906, 'id': 14, 'text': '학습목표'}, {'boundingBox': {'vertices': [{'x': 219, 'y': 409}, {'x': 226, 'y': 409}, {'x': 226, 'y': 417}, {'x': 219, 'y': 417}]}, 'confidence': 0.8693, 'id': 15, 'text': '·'}, {'boundingBox': {'vertices': [{'x': 233, 'y': 403}, {'x': 284, 'y': 403}, {'x': 284, 'y': 423}, {'x': 233, 'y': 423}]}, 'confidence': 0.9864, 'id': 16, 'text': '산업화'}, {'boundingBox': {'vertices': [{'x': 288, 'y': 408}, {'x': 294, 'y': 408}, {'x': 294, 'y': 415}, {'x': 288, 'y': 415}]}, 'confidence': 0.8003, 'id': 17, 'text': '·'}, {'boundingBox': {'vertices': [{'x': 300, 'y': 404}, {'x': 367, 'y': 404}, {'x': 367, 'y': 422}, {'x': 300, 'y': 422}]}, 'confidence': 0.9949, 'id': 18, 'text': '도시화로'}, {'boundingBox': {'vertices': [{'x': 376, 'y': 404}, {'x': 443, 'y': 404}, {'x': 443, 'y': 422}, {'x': 376, 'y': 422}]}, 'confidence': 0.9913, 'id': 19, 'text': '나타나는'}, {'boundingBox': {'vertices': [{'x': 452, 'y': 403}, {'x': 487, 'y': 403}, {'x': 487, 'y': 423}, {'x': 452, 'y': 423}]}, 'confidence': 0.9882, 'id': 20, 'text': '생활'}, {'boundingBox': {'vertices': [{'x': 493, 'y': 403}, {'x': 545, 'y': 403}, {'x': 545, 'y': 423}, {'x': 493, 'y': 423}]}, 'confidence': 0.9972, 'id': 21, 'text': '공간과'}, {'boundingBox': {'vertices': [{'x': 552, 'y': 403}, {'x': 587, 'y': 403}, {'x': 587, 'y': 423}, {'x': 552, 'y': 423}]}, 'confidence': 0.9883, 'id': 22, 'text': '생활'}, {'boundingBox': {'vertices': [{'x': 594, 'y': 404}, {'x': 644, 'y': 404}, {'x': 644, 'y': 422}, {'x': 594, 'y': 422}]}, 'confidence': 0.9943, 'id': 23, 'text': '양식의'}, {'boundingBox': {'vertices': [{'x': 654, 'y': 404}, {'x': 704, 'y': 404}, {'x': 704, 'y': 422}, {'x': 654, 'y': 422}]}, 'confidence': 0.9949, 'id': 24, 'text': '변화를'}, {'boundingBox': {'vertices': [{'x': 711, 'y': 404}, {'x': 728, 'y': 404}, {'x': 729, 'y': 421}, {'x': 712, 'y': 422}]}, 'confidence': 0.9846, 'id': 25, 'text': '알'}, {'boundingBox': {'vertices': [{'x': 736, 'y': 404}, {'x': 754, 'y': 403}, {'x': 754, 'y': 421}, {'x': 737, 'y': 422}]}, 'confidence': 0.9745, 'id': 26, 'text': '수'}, {'boundingBox': {'vertices': [{'x': 763, 'y': 404}, {'x': 799, 'y': 404}, {'x': 799, 'y': 422}, {'x': 763, 'y': 422}]}, 'confidence': 0.9934, 'id': 27, 'text': '있다.'}, {'boundingBox': {'vertices': [{'x': 218, 'y': 438}, {'x': 226, 'y': 437}, {'x': 227, 'y': 445}, {'x': 219, 'y': 446}]}, 'confidence': 0.8997, 'id': 28, 'text': '·'}, {'boundingBox': {'vertices': [{'x': 233, 'y': 432}, {'x': 284, 'y': 432}, {'x': 284, 'y': 452}, {'x': 233, 'y': 452}]}, 'confidence': 0.9827, 'id': 29, 'text': '산업화'}, {'boundingBox': {'vertices': [{'x': 288, 'y': 437}, {'x': 294, 'y': 437}, {'x': 294, 'y': 444}, {'x': 288, 'y': 444}]}, 'confidence': 0.8651, 'id': 30, 'text': '·'}, {'boundingBox': {'vertices': [{'x': 300, 'y': 433}, {'x': 367, 'y': 433}, {'x': 367, 'y': 450}, {'x': 300, 'y': 450}]}, 'confidence': 0.9948, 'id': 31, 'text': '도시화로'}, {'boundingBox': {'vertices': [{'x': 376, 'y': 433}, {'x': 443, 'y': 433}, {'x': 443, 'y': 451}, {'x': 376, 'y': 451}]}, 'confidence': 0.9906, 'id': 32, 'text': '나타나는'}, {'boundingBox': {'vertices': [{'x': 451, 'y': 433}, {'x': 519, 'y': 432}, {'x': 519, 'y': 450}, {'x': 452, 'y': 451}]}, 'confidence': 0.9958, 'id': 33, 'text': '문제점을'}, {'boundingBox': {'vertices': [{'x': 527, 'y': 433}, {'x': 593, 'y': 433}, {'x': 593, 'y': 451}, {'x': 527, 'y': 451}]}, 'confidence': 0.9961, 'id': 34, 'text': '해결하는'}, {'boundingBox': {'vertices': [{'x': 602, 'y': 432}, {'x': 654, 'y': 431}, {'x': 654, 'y': 451}, {'x': 603, 'y': 452}]}, 'confidence': 0.9888, 'id': 35, 'text': '방안을'}, {'boundingBox': {'vertices': [{'x': 661, 'y': 432}, {'x': 712, 'y': 432}, {'x': 712, 'y': 450}, {'x': 661, 'y': 450}]}, 'confidence': 0.995, 'id': 36, 'text': '제시할'}, {'boundingBox': {'vertices': [{'x': 719, 'y': 433}, {'x': 736, 'y': 432}, {'x': 737, 'y': 450}, {'x': 720, 'y': 451}]}, 'confidence': 0.982, 'id': 37, 'text': '수'}, {'boundingBox': {'vertices': [{'x': 745, 'y': 432}, {'x': 783, 'y': 432}, {'x': 783, 'y': 451}, {'x': 745, 'y': 451}]}, 'confidence': 0.9912, 'id': 38, 'text': '있다.'}, {'boundingBox': {'vertices': [{'x': 230, 'y': 470}, {'x': 257, 'y': 470}, {'x': 257, 'y': 485}, {'x': 230, 'y': 485}]}, 'confidence': 0.9891, 'id': 39, 'text': '출제'}, {'boundingBox': {'vertices': [{'x': 284, 'y': 477}, {'x': 330, 'y': 477}, {'x': 330, 'y': 495}, {'x': 284, 'y': 495}]}, 'confidence': 0.9763, 'id': 40, 'text': '산업화'}, {'boundingBox': {'vertices': [{'x': 334, 'y': 482}, {'x': 340, 'y': 482}, {'x': 340, 'y': 489}, {'x': 334, 'y': 489}]}, 'confidence': 0.9387, 'id': 41, 'text': '·'}, {'boundingBox': {'vertices': [{'x': 346, 'y': 477}, {'x': 406, 'y': 478}, {'x': 406, 'y': 495}, {'x': 345, 'y': 494}]}, 'confidence': 0.9888, 'id': 42, 'text': '도시화의'}, {'boundingBox': {'vertices': [{'x': 413, 'y': 477}, {'x': 459, 'y': 477}, {'x': 459, 'y': 495}, {'x': 413, 'y': 495}]}, 'confidence': 0.9941, 'id': 43, 'text': '특징과'}, {'boundingBox': {'vertices': [{'x': 467, 'y': 478}, {'x': 497, 'y': 478}, {'x': 497, 'y': 495}, {'x': 467, 'y': 495}]}, 'confidence': 0.978, 'id': 44, 'text': '열섬'}, {'boundingBox': {'vertices': [{'x': 504, 'y': 477}, {'x': 550, 'y': 477}, {'x': 550, 'y': 495}, {'x': 504, 'y': 495}]}, 'confidence': 0.9927, 'id': 45, 'text': '현상이'}, {'boundingBox': {'vertices': [{'x': 557, 'y': 478}, {'x': 588, 'y': 478}, {'x': 588, 'y': 494}, {'x': 557, 'y': 494}]}, 'confidence': 0.9847, 'id': 46, 'text': '자주'}, {'boundingBox': {'vertices': [{'x': 596, 'y': 477}, {'x': 659, 'y': 477}, {'x': 659, 'y': 495}, {'x': 596, 'y': 495}]}, 'confidence': 0.9923, 'id': 47, 'text': '출제된다.'}, {'boundingBox': {'vertices': [{'x': 218, 'y': 486}, {'x': 258, 'y': 485}, {'x': 258, 'y': 501}, {'x': 219, 'y': 502}]}, 'confidence': 0.9936, 'id': 48, 'text': 'Point'}, {'boundingBox': {'vertices': [{'x': 223, 'y': 605}, {'x': 253, 'y': 604}, {'x': 253, 'y': 626}, {'x': 223, 'y': 626}]}, 'confidence': 0.9935, 'id': 49, 'text': '01'}, {'boundingBox': {'vertices': [{'x': 288, 'y': 604}, {'x': 352, 'y': 604}, {'x': 352, 'y': 628}, {'x': 288, 'y': 628}]}, 'confidence': 0.9759, 'id': 50, 'text': '산업화'}, {'boundingBox': {'vertices': [{'x': 359, 'y': 611}, {'x': 366, 'y': 610}, {'x': 366, 'y': 617}, {'x': 359, 'y': 618}]}, 'confidence': 0.9653, 'id': 51, 'text': '·'}, {'boundingBox': {'vertices': [{'x': 374, 'y': 604}, {'x': 458, 'y': 604}, {'x': 458, 'y': 628}, {'x': 374, 'y': 628}]}, 'confidence': 0.9938, 'id': 52, 'text': '도시화에'}, {'boundingBox': {'vertices': [{'x': 470, 'y': 604}, {'x': 512, 'y': 604}, {'x': 512, 'y': 628}, {'x': 470, 'y': 628}]}, 'confidence': 0.9917, 'id': 53, 'text': '따른'}, {'boundingBox': {'vertices': [{'x': 524, 'y': 604}, {'x': 565, 'y': 604}, {'x': 565, 'y': 628}, {'x': 524, 'y': 628}]}, 'confidence': 0.9872, 'id': 54, 'text': '변화'}, {'boundingBox': {'vertices': [{'x': 201, 'y': 665}, {'x': 230, 'y': 665}, {'x': 230, 'y': 687}, {'x': 202, 'y': 687}]}, 'confidence': 0.9988, 'id': 55, 'text': '(1)'}, {'boundingBox': {'vertices': [{'x': 240, 'y': 665}, {'x': 321, 'y': 665}, {'x': 321, 'y': 687}, {'x': 240, 'y': 687}]}, 'confidence': 0.9962, 'id': 56, 'text': '산업화와'}, {'boundingBox': {'vertices': [{'x': 331, 'y': 665}, {'x': 393, 'y': 665}, {'x': 393, 'y': 687}, {'x': 331, 'y': 687}]}, 'confidence': 0.9937, 'id': 57, 'text': '도시화'}, {'boundingBox': {'vertices': [{'x': 238, 'y': 705}, {'x': 259, 'y': 705}, {'x': 259, 'y': 726}, {'x': 239, 'y': 727}]}, 'confidence': 0.9958, 'id': 58, 'text': '①'}, {'boundingBox': {'vertices': [{'x': 267, 'y': 705}, {'x': 326, 'y': 705}, {'x': 326, 'y': 727}, {'x': 267, 'y': 727}]}, 'confidence': 0.995, 'id': 59, 'text': '산업화'}, {'boundingBox': {'vertices': [{'x': 266, 'y': 744}, {'x': 286, 'y': 744}, {'x': 286, 'y': 763}, {'x': 266, 'y': 763}]}, 'confidence': 0.9984, 'id': 60, 'text': '㉠'}, {'boundingBox': {'vertices': [{'x': 295, 'y': 744}, {'x': 332, 'y': 744}, {'x': 332, 'y': 764}, {'x': 295, 'y': 764}]}, 'confidence': 0.997, 'id': 61, 'text': '의미'}, {'boundingBox': {'vertices': [{'x': 340, 'y': 747}, {'x': 346, 'y': 747}, {'x': 346, 'y': 760}, {'x': 340, 'y': 760}]}, 'confidence': 0.9956, 'id': 62, 'text': ':'}, {'boundingBox': {'vertices': [{'x': 353, 'y': 743}, {'x': 391, 'y': 742}, {'x': 392, 'y': 764}, {'x': 354, 'y': 765}]}, 'confidence': 0.9956, 'id': 63, 'text': '농업'}, {'boundingBox': {'vertices': [{'x': 399, 'y': 742}, {'x': 456, 'y': 742}, {'x': 456, 'y': 765}, {'x': 399, 'y': 765}]}, 'confidence': 0.9987, 'id': 64, 'text': '중심의'}, {'boundingBox': {'vertices': [{'x': 465, 'y': 742}, {'x': 541, 'y': 742}, {'x': 541, 'y': 765}, {'x': 465, 'y': 765}]}, 'confidence': 0.9993, 'id': 65, 'text': '사회에서'}, {'boundingBox': {'vertices': [{'x': 549, 'y': 742}, {'x': 593, 'y': 742}, {'x': 593, 'y': 765}, {'x': 549, 'y': 765}]}, 'confidence': 0.9975, 'id': 66, 'text': '공업,'}, {'boundingBox': {'vertices': [{'x': 603, 'y': 742}, {'x': 679, 'y': 742}, {'x': 679, 'y': 765}, {'x': 603, 'y': 765}]}, 'confidence': 0.9975, 'id': 67, 'text': '서비스업'}, {'boundingBox': {'vertices': [{'x': 687, 'y': 742}, {'x': 765, 'y': 742}, {'x': 765, 'y': 765}, {'x': 687, 'y': 765}]}, 'confidence': 0.9992, 'id': 68, 'text': '중심으로'}, {'boundingBox': {'vertices': [{'x': 773, 'y': 742}, {'x': 849, 'y': 742}, {'x': 849, 'y': 765}, {'x': 773, 'y': 765}]}, 'confidence': 0.9982, 'id': 69, 'text': '변화하는'}, {'boundingBox': {'vertices': [{'x': 857, 'y': 743}, {'x': 937, 'y': 742}, {'x': 938, 'y': 764}, {'x': 857, 'y': 765}]}, 'confidence': 0.9976, 'id': 70, 'text': '현상이다.'}, {'boundingBox': {'vertices': [{'x': 295, 'y': 781}, {'x': 333, 'y': 781}, {'x': 333, 'y': 801}, {'x': 295, 'y': 801}]}, 'confidence': 0.9959, 'id': 71, 'text': '특징'}, {'boundingBox': {'vertices': [{'x': 295, 'y': 823}, {'x': 303, 'y': 822}, {'x': 303, 'y': 830}, {'x': 296, 'y': 831}]}, 'confidence': 0.9811, 'id': 72, 'text': '·'}, {'boundingBox': {'vertices': [{'x': 310, 'y': 817}, {'x': 387, 'y': 817}, {'x': 387, 'y': 839}, {'x': 310, 'y': 839}]}, 'confidence': 0.9986, 'id': 73, 'text': '산업화로'}, {'boundingBox': {'vertices': [{'x': 395, 'y': 817}, {'x': 432, 'y': 817}, {'x': 432, 'y': 839}, {'x': 395, 'y': 839}]}, 'confidence': 0.9978, 'id': 74, 'text': '인해'}, {'boundingBox': {'vertices': [{'x': 440, 'y': 817}, {'x': 499, 'y': 817}, {'x': 499, 'y': 840}, {'x': 440, 'y': 840}]}, 'confidence': 0.9985, 'id': 75, 'text': '공업과'}, {'boundingBox': {'vertices': [{'x': 506, 'y': 817}, {'x': 601, 'y': 817}, {'x': 601, 'y': 840}, {'x': 506, 'y': 840}]}, 'confidence': 0.9972, 'id': 76, 'text': '서비스업의'}, {'boundingBox': {'vertices': [{'x': 609, 'y': 817}, {'x': 668, 'y': 817}, {'x': 668, 'y': 840}, {'x': 609, 'y': 840}]}, 'confidence': 0.9975, 'id': 77, 'text': '종사자'}, {'boundingBox': {'vertices': [{'x': 675, 'y': 817}, {'x': 731, 'y': 817}, {'x': 731, 'y': 840}, {'x': 675, 'y': 840}]}, 'confidence': 0.9969, 'id': 78, 'text': '비중이'}, {'boundingBox': {'vertices': [{'x': 739, 'y': 817}, {'x': 820, 'y': 817}, {'x': 820, 'y': 840}, {'x': 739, 'y': 840}]}, 'confidence': 0.9967, 'id': 79, 'text': '늘어난다.'}, {'boundingBox': {'vertices': [{'x': 295, 'y': 859}, {'x': 303, 'y': 859}, {'x': 303, 'y': 868}, {'x': 295, 'y': 868}]}, 'confidence': 0.9915, 'id': 80, 'text': '·'}, {'boundingBox': {'vertices': [{'x': 310, 'y': 854}, {'x': 387, 'y': 854}, {'x': 387, 'y': 877}, {'x': 310, 'y': 877}]}, 'confidence': 0.9956, 'id': 81, 'text': '기계화와'}, {'boundingBox': {'vertices': [{'x': 393, 'y': 855}, {'x': 471, 'y': 855}, {'x': 471, 'y': 876}, {'x': 393, 'y': 876}]}, 'confidence': 0.9977, 'id': 82, 'text': '분업으로'}, {'boundingBox': {'vertices': [{'x': 478, 'y': 854}, {'x': 536, 'y': 854}, {'x': 536, 'y': 877}, {'x': 478, 'y': 877}]}, 'confidence': 0.9971, 'id': 83, 'text': '제품의'}, {'boundingBox': {'vertices': [{'x': 544, 'y': 854}, {'x': 583, 'y': 854}, {'x': 583, 'y': 877}, {'x': 544, 'y': 877}]}, 'confidence': 0.9966, 'id': 84, 'text': '대량'}, {'boundingBox': {'vertices': [{'x': 590, 'y': 854}, {'x': 648, 'y': 854}, {'x': 648, 'y': 877}, {'x': 590, 'y': 877}]}, 'confidence': 0.9974, 'id': 85, 'text': '생산과'}, {'boundingBox': {'vertices': [{'x': 656, 'y': 854}, {'x': 695, 'y': 854}, {'x': 695, 'y': 877}, {'x': 656, 'y': 877}]}, 'confidence': 0.9965, 'id': 86, 'text': '대량'}, {'boundingBox': {'vertices': [{'x': 701, 'y': 854}, {'x': 760, 'y': 854}, {'x': 760, 'y': 877}, {'x': 701, 'y': 877}]}, 'confidence': 0.9967, 'id': 87, 'text': '소비가'}, {'boundingBox': {'vertices': [{'x': 766, 'y': 854}, {'x': 866, 'y': 855}, {'x': 866, 'y': 878}, {'x': 766, 'y': 876}]}, 'confidence': 0.9977, 'id': 88, 'text': '가능해졌다.'}, {'boundingBox': {'vertices': [{'x': 238, 'y': 892}, {'x': 259, 'y': 891}, {'x': 259, 'y': 913}, {'x': 239, 'y': 913}]}, 'confidence': 0.9402, 'id': 89, 'text': '②'}, {'boundingBox': {'vertices': [{'x': 266, 'y': 892}, {'x': 326, 'y': 892}, {'x': 326, 'y': 913}, {'x': 266, 'y': 913}]}, 'confidence': 0.9947, 'id': 90, 'text': '도시화'}, {'boundingBox': {'vertices': [{'x': 265, 'y': 929}, {'x': 286, 'y': 929}, {'x': 286, 'y': 950}, {'x': 265, 'y': 950}]}, 'confidence': 0.9986, 'id': 91, 'text': '㉠'}, {'boundingBox': {'vertices': [{'x': 295, 'y': 929}, {'x': 332, 'y': 929}, {'x': 332, 'y': 950}, {'x': 295, 'y': 950}]}, 'confidence': 0.9966, 'id': 92, 'text': '의미'}, {'boundingBox': {'vertices': [{'x': 340, 'y': 933}, {'x': 346, 'y': 933}, {'x': 346, 'y': 946}, {'x': 340, 'y': 946}]}, 'confidence': 0.9964, 'id': 93, 'text': ':'}, {'boundingBox': {'vertices': [{'x': 353, 'y': 929}, {'x': 373, 'y': 929}, {'x': 373, 'y': 950}, {'x': 353, 'y': 951}]}, 'confidence': 0.9893, 'id': 94, 'text': '한'}, {'boundingBox': {'vertices': [{'x': 378, 'y': 929}, {'x': 417, 'y': 929}, {'x': 417, 'y': 951}, {'x': 378, 'y': 951}]}, 'confidence': 0.9978, 'id': 95, 'text': '국가'}, {'boundingBox': {'vertices': [{'x': 422, 'y': 929}, {'x': 479, 'y': 929}, {'x': 479, 'y': 951}, {'x': 422, 'y': 951}]}, 'confidence': 0.9984, 'id': 96, 'text': '내에서'}, {'boundingBox': {'vertices': [{'x': 485, 'y': 929}, {'x': 523, 'y': 929}, {'x': 523, 'y': 950}, {'x': 485, 'y': 950}]}, 'confidence': 0.9966, 'id': 97, 'text': '도시'}, {'boundingBox': {'vertices': [{'x': 529, 'y': 929}, {'x': 568, 'y': 929}, {'x': 568, 'y': 951}, {'x': 529, 'y': 951}]}, 'confidence': 0.9974, 'id': 98, 'text': '거주'}, {'boundingBox': {'vertices': [{'x': 574, 'y': 929}, {'x': 613, 'y': 929}, {'x': 613, 'y': 951}, {'x': 574, 'y': 951}]}, 'confidence': 0.9971, 'id': 99, 'text': '인구'}, {'boundingBox': {'vertices': [{'x': 618, 'y': 929}, {'x': 674, 'y': 929}, {'x': 674, 'y': 951}, {'x': 618, 'y': 951}]}, 'confidence': 0.9972, 'id': 100, 'text': '비율이'}, {'boundingBox': {'vertices': [{'x': 680, 'y': 929}, {'x': 757, 'y': 929}, {'x': 757, 'y': 951}, {'x': 680, 'y': 951}]}, 'confidence': 0.9974, 'id': 101, 'text': '높아지고'}, {'boundingBox': {'vertices': [{'x': 763, 'y': 929}, {'x': 820, 'y': 929}, {'x': 820, 'y': 950}, {'x': 763, 'y': 950}]}, 'confidence': 0.9978, 'id': 102, 'text': '도시적'}, {'boundingBox': {'vertices': [{'x': 826, 'y': 929}, {'x': 865, 'y': 929}, {'x': 865, 'y': 951}, {'x': 826, 'y': 951}]}, 'confidence': 0.9927, 'id': 103, 'text': '생활'}, {'boundingBox': {'vertices': [{'x': 871, 'y': 929}, {'x': 929, 'y': 929}, {'x': 929, 'y': 951}, {'x': 871, 'y': 951}]}, 'confidence': 0.9981, 'id': 104, 'text': '양식과'}, {'boundingBox': {'vertices': [{'x': 933, 'y': 929}, {'x': 989, 'y': 929}, {'x': 989, 'y': 950}, {'x': 933, 'y': 950}]}, 'confidence': 0.9984, 'id': 105, 'text': '도시적'}, {'boundingBox': {'vertices': [{'x': 996, 'y': 930}, {'x': 1035, 'y': 928}, {'x': 1036, 'y': 950}, {'x': 997, 'y': 952}]}, 'confidence': 0.9955, 'id': 106, 'text': '경관'}, {'boundingBox': {'vertices': [{'x': 294, 'y': 967}, {'x': 310, 'y': 967}, {'x': 311, 'y': 987}, {'x': 294, 'y': 988}]}, 'confidence': 0.9957, 'id': 107, 'text': '이'}, {'boundingBox': {'vertices': [{'x': 319, 'y': 966}, {'x': 398, 'y': 966}, {'x': 398, 'y': 988}, {'x': 319, 'y': 988}]}, 'confidence': 0.9977, 'id': 108, 'text': '확대되는'}, {'boundingBox': {'vertices': [{'x': 405, 'y': 966}, {'x': 485, 'y': 966}, {'x': 485, 'y': 988}, {'x': 405, 'y': 988}]}, 'confidence': 0.9986, 'id': 109, 'text': '현상이다.'}, {'boundingBox': {'vertices': [{'x': 295, 'y': 1004}, {'x': 333, 'y': 1004}, {'x': 333, 'y': 1025}, {'x': 295, 'y': 1025}]}, 'confidence': 0.9957, 'id': 110, 'text': '특징'}, {'boundingBox': {'vertices': [{'x': 340, 'y': 1008}, {'x': 347, 'y': 1008}, {'x': 347, 'y': 1021}, {'x': 340, 'y': 1021}]}, 'confidence': 0.9963, 'id': 111, 'text': ':'}, {'boundingBox': {'vertices': [{'x': 354, 'y': 1003}, {'x': 431, 'y': 1003}, {'x': 431, 'y': 1025}, {'x': 354, 'y': 1025}]}, 'confidence': 0.9986, 'id': 112, 'text': '산업화가'}, {'boundingBox': {'vertices': [{'x': 437, 'y': 1003}, {'x': 531, 'y': 1003}, {'x': 531, 'y': 1026}, {'x': 437, 'y': 1026}]}, 'confidence': 0.9993, 'id': 113, 'text': '진행되면서'}, {'boundingBox': {'vertices': [{'x': 538, 'y': 1003}, {'x': 614, 'y': 1003}, {'x': 614, 'y': 1026}, {'x': 538, 'y': 1026}]}, 'confidence': 0.9982, 'id': 114, 'text': '촌락에서'}, {'boundingBox': {'vertices': [{'x': 621, 'y': 1003}, {'x': 697, 'y': 1003}, {'x': 697, 'y': 1025}, {'x': 621, 'y': 1025}]}, 'confidence': 0.9972, 'id': 115, 'text': '도시로의'}, {'boundingBox': {'vertices': [{'x': 705, 'y': 1003}, {'x': 744, 'y': 1003}, {'x': 744, 'y': 1025}, {'x': 705, 'y': 1025}]}, 'confidence': 0.9978, 'id': 116, 'text': '인구'}, {'boundingBox': {'vertices': [{'x': 749, 'y': 1003}, {'x': 805, 'y': 1003}, {'x': 805, 'y': 1025}, {'x': 749, 'y': 1025}]}, 'confidence': 0.9975, 'id': 117, 'text': '이동이'}, {'boundingBox': {'vertices': [{'x': 811, 'y': 1003}, {'x': 887, 'y': 1003}, {'x': 887, 'y': 1026}, {'x': 811, 'y': 1026}]}, 'confidence': 0.9977, 'id': 118, 'text': '활발해져'}, {'boundingBox': {'vertices': [{'x': 894, 'y': 1003}, {'x': 970, 'y': 1003}, {'x': 970, 'y': 1025}, {'x': 894, 'y': 1025}]}, 'confidence': 0.9976, 'id': 119, 'text': '도시화의'}, {'boundingBox': {'vertices': [{'x': 977, 'y': 1003}, {'x': 1037, 'y': 1003}, {'x': 1037, 'y': 1026}, {'x': 977, 'y': 1026}]}, 'confidence': 0.9974, 'id': 120, 'text': '가속화'}, {'boundingBox': {'vertices': [{'x': 293, 'y': 1041}, {'x': 312, 'y': 1041}, {'x': 312, 'y': 1062}, {'x': 293, 'y': 1062}]}, 'confidence': 0.995, 'id': 121, 'text': '에'}, {'boundingBox': {'vertices': [{'x': 321, 'y': 1040}, {'x': 378, 'y': 1040}, {'x': 378, 'y': 1063}, {'x': 321, 'y': 1063}]}, 'confidence': 0.9986, 'id': 122, 'text': '영향을'}, {'boundingBox': {'vertices': [{'x': 385, 'y': 1041}, {'x': 427, 'y': 1041}, {'x': 427, 'y': 1063}, {'x': 385, 'y': 1063}]}, 'confidence': 0.9897, 'id': 123, 'text': '준다.'}, {'boundingBox': {'vertices': [{'x': 239, 'y': 1079}, {'x': 259, 'y': 1078}, {'x': 259, 'y': 1099}, {'x': 239, 'y': 1099}]}, 'confidence': 0.9778, 'id': 124, 'text': '③'}, {'boundingBox': {'vertices': [{'x': 266, 'y': 1078}, {'x': 326, 'y': 1078}, {'x': 326, 'y': 1100}, {'x': 266, 'y': 1100}]}, 'confidence': 0.9928, 'id': 125, 'text': '도시화'}, {'boundingBox': {'vertices': [{'x': 335, 'y': 1079}, {'x': 375, 'y': 1079}, {'x': 375, 'y': 1100}, {'x': 335, 'y': 1100}]}, 'confidence': 0.9947, 'id': 126, 'text': '과정'}, {'boundingBox': {'vertices': [{'x': 388, 'y': 1127}, {'x': 395, 'y': 1127}, {'x': 396, 'y': 1135}, {'x': 388, 'y': 1135}]}, 'confidence': 0.6817, 'id': 127, 'text': '·'}, {'boundingBox': {'vertices': [{'x': 404, 'y': 1122}, {'x': 492, 'y': 1122}, {'x': 492, 'y': 1143}, {'x': 404, 'y': 1143}]}, 'confidence': 0.9984, 'id': 128, 'text': '도시화율이'}, {'boundingBox': {'vertices': [{'x': 498, 'y': 1123}, {'x': 535, 'y': 1121}, {'x': 536, 'y': 1142}, {'x': 499, 'y': 1143}]}, 'confidence': 0.9953, 'id': 129, 'text': '낮음'}, {'boundingBox': {'vertices': [{'x': 283, 'y': 1137}, {'x': 319, 'y': 1137}, {'x': 319, 'y': 1157}, {'x': 283, 'y': 1157}]}, 'confidence': 0.9954, 'id': 130, 'text': '초기'}, {'boundingBox': {'vertices': [{'x': 328, 'y': 1137}, {'x': 364, 'y': 1137}, {'x': 364, 'y': 1157}, {'x': 328, 'y': 1157}]}, 'confidence': 0.992, 'id': 131, 'text': '단계'}, {'boundingBox': {'vertices': [{'x': 388, 'y': 1158}, {'x': 395, 'y': 1157}, {'x': 396, 'y': 1166}, {'x': 388, 'y': 1167}]}, 'confidence': 0.7271, 'id': 132, 'text': '●'}, {'boundingBox': {'vertices': [{'x': 404, 'y': 1153}, {'x': 474, 'y': 1153}, {'x': 474, 'y': 1173}, {'x': 404, 'y': 1173}]}, 'confidence': 0.9982, 'id': 133, 'text': '대부분의'}, {'boundingBox': {'vertices': [{'x': 482, 'y': 1152}, {'x': 536, 'y': 1152}, {'x': 536, 'y': 1173}, {'x': 482, 'y': 1173}]}, 'confidence': 0.997, 'id': 134, 'text': '인구가'}, {'boundingBox': {'vertices': [{'x': 541, 'y': 1152}, {'x': 594, 'y': 1152}, {'x': 594, 'y': 1173}, {'x': 541, 'y': 1173}]}, 'confidence': 0.9954, 'id': 135, 'text': '촌락에'}, {'boundingBox': {'vertices': [{'x': 601, 'y': 1153}, {'x': 677, 'y': 1153}, {'x': 677, 'y': 1173}, {'x': 601, 'y': 1173}]}, 'confidence': 0.9981, 'id': 136, 'text': '분포하고,'}, {'boundingBox': {'vertices': [{'x': 684, 'y': 1153}, {'x': 713, 'y': 1153}, {'x': 713, 'y': 1172}, {'x': 684, 'y': 1172}]}, 'confidence': 0.9968, 'id': 137, 'text': '1차'}, {'boundingBox': {'vertices': [{'x': 718, 'y': 1153}, {'x': 772, 'y': 1153}, {'x': 772, 'y': 1173}, {'x': 718, 'y': 1173}]}, 'confidence': 0.9984, 'id': 138, 'text': '산업에'}, {'boundingBox': {'vertices': [{'x': 778, 'y': 1153}, {'x': 832, 'y': 1152}, {'x': 833, 'y': 1173}, {'x': 779, 'y': 1174}]}, 'confidence': 0.9945, 'id': 139, 'text': '종사함'}, {'boundingBox': {'vertices': [{'x': 388, 'y': 1191}, {'x': 395, 'y': 1191}, {'x': 396, 'y': 1199}, {'x': 388, 'y': 1200}]}, 'confidence': 0.7429, 'id': 140, 'text': '●'}, {'boundingBox': {'vertices': [{'x': 404, 'y': 1186}, {'x': 476, 'y': 1186}, {'x': 476, 'y': 1207}, {'x': 404, 'y': 1207}]}, 'confidence': 0.9975, 'id': 141, 'text': '산업화를'}, {'boundingBox': {'vertices': [{'x': 481, 'y': 1186}, {'x': 535, 'y': 1186}, {'x': 535, 'y': 1207}, {'x': 481, 'y': 1207}]}, 'confidence': 0.9975, 'id': 142, 'text': '계기로'}, {'boundingBox': {'vertices': [{'x': 541, 'y': 1186}, {'x': 578, 'y': 1186}, {'x': 578, 'y': 1207}, {'x': 541, 'y': 1207}]}, 'confidence': 0.9871, 'id': 143, 'text': '이촌'}, {'boundingBox': {'vertices': [{'x': 583, 'y': 1186}, {'x': 620, 'y': 1186}, {'x': 620, 'y': 1207}, {'x': 583, 'y': 1207}]}, 'confidence': 0.9964, 'id': 144, 'text': '향도'}, {'boundingBox': {'vertices': [{'x': 626, 'y': 1186}, {'x': 678, 'y': 1186}, {'x': 678, 'y': 1207}, {'x': 626, 'y': 1207}]}, 'confidence': 0.9978, 'id': 145, 'text': '현상이'}, {'boundingBox': {'vertices': [{'x': 686, 'y': 1186}, {'x': 774, 'y': 1186}, {'x': 774, 'y': 1207}, {'x': 686, 'y': 1207}]}, 'confidence': 0.9989, 'id': 146, 'text': '발생하면서'}, {'boundingBox': {'vertices': [{'x': 781, 'y': 1186}, {'x': 835, 'y': 1186}, {'x': 835, 'y': 1207}, {'x': 781, 'y': 1207}]}, 'confidence': 0.9955, 'id': 147, 'text': '급격한'}, {'boundingBox': {'vertices': [{'x': 841, 'y': 1186}, {'x': 913, 'y': 1186}, {'x': 913, 'y': 1207}, {'x': 841, 'y': 1207}]}, 'confidence': 0.997, 'id': 148, 'text': '도시화가'}, {'boundingBox': {'vertices': [{'x': 919, 'y': 1186}, {'x': 989, 'y': 1186}, {'x': 989, 'y': 1207}, {'x': 919, 'y': 1207}]}, 'confidence': 0.9943, 'id': 149, 'text': '이루어짐'}, {'boundingBox': {'vertices': [{'x': 275, 'y': 1216}, {'x': 329, 'y': 1216}, {'x': 329, 'y': 1237}, {'x': 275, 'y': 1237}]}, 'confidence': 0.9946, 'id': 150, 'text': '가속화'}, {'boundingBox': {'vertices': [{'x': 337, 'y': 1216}, {'x': 373, 'y': 1216}, {'x': 373, 'y': 1237}, {'x': 337, 'y': 1237}]}, 'confidence': 0.9919, 'id': 151, 'text': '단계'}, {'boundingBox': {'vertices': [{'x': 403, 'y': 1221}, {'x': 418, 'y': 1221}, {'x': 418, 'y': 1233}, {'x': 404, 'y': 1234}]}, 'confidence': 0.9969, 'id': 152, 'text': '→'}, {'boundingBox': {'vertices': [{'x': 425, 'y': 1220}, {'x': 435, 'y': 1220}, {'x': 435, 'y': 1233}, {'x': 425, 'y': 1233}]}, 'confidence': 0.9901, 'id': 153, 'text': '2'}, {'boundingBox': {'vertices': [{'x': 441, 'y': 1222}, {'x': 447, 'y': 1222}, {'x': 447, 'y': 1229}, {'x': 441, 'y': 1229}]}, 'confidence': 0.9194, 'id': 154, 'text': '·'}, {'boundingBox': {'vertices': [{'x': 452, 'y': 1217}, {'x': 481, 'y': 1217}, {'x': 481, 'y': 1236}, {'x': 452, 'y': 1236}]}, 'confidence': 0.9976, 'id': 155, 'text': '3차'}, {'boundingBox': {'vertices': [{'x': 487, 'y': 1216}, {'x': 541, 'y': 1216}, {'x': 541, 'y': 1237}, {'x': 487, 'y': 1237}]}, 'confidence': 0.9976, 'id': 156, 'text': '산업이'}, {'boundingBox': {'vertices': [{'x': 548, 'y': 1216}, {'x': 602, 'y': 1216}, {'x': 602, 'y': 1237}, {'x': 548, 'y': 1237}]}, 'confidence': 0.992, 'id': 157, 'text': '발달함'}, {'boundingBox': {'vertices': [{'x': 388, 'y': 1252}, {'x': 395, 'y': 1252}, {'x': 396, 'y': 1260}, {'x': 388, 'y': 1260}]}, 'confidence': 0.7828, 'id': 158, 'text': '●'}, {'boundingBox': {'vertices': [{'x': 404, 'y': 1246}, {'x': 458, 'y': 1246}, {'x': 458, 'y': 1268}, {'x': 404, 'y': 1268}]}, 'confidence': 0.9981, 'id': 159, 'text': '대부분'}, {'boundingBox': {'vertices': [{'x': 464, 'y': 1247}, {'x': 500, 'y': 1247}, {'x': 500, 'y': 1268}, {'x': 464, 'y': 1268}]}, 'confidence': 0.9985, 'id': 160, 'text': '개발'}, {'boundingBox': {'vertices': [{'x': 505, 'y': 1246}, {'x': 578, 'y': 1246}, {'x': 578, 'y': 1268}, {'x': 505, 'y': 1268}]}, 'confidence': 0.9943, 'id': 161, 'text': '도상국은'}, {'boundingBox': {'vertices': [{'x': 583, 'y': 1246}, {'x': 637, 'y': 1246}, {'x': 637, 'y': 1268}, {'x': 583, 'y': 1268}]}, 'confidence': 0.997, 'id': 162, 'text': '가속화'}, {'boundingBox': {'vertices': [{'x': 643, 'y': 1247}, {'x': 679, 'y': 1247}, {'x': 679, 'y': 1268}, {'x': 643, 'y': 1268}]}, 'confidence': 0.9972, 'id': 163, 'text': '단계'}, {'boundingBox': {'vertices': [{'x': 686, 'y': 1247}, {'x': 721, 'y': 1247}, {'x': 721, 'y': 1268}, {'x': 686, 'y': 1268}]}, 'confidence': 0.9967, 'id': 164, 'text': '진행'}, {'boundingBox': {'vertices': [{'x': 727, 'y': 1247}, {'x': 747, 'y': 1247}, {'x': 747, 'y': 1268}, {'x': 727, 'y': 1268}]}, 'confidence': 0.9901, 'id': 165, 'text': '중'}, {'boundingBox': {'vertices': [{'x': 388, 'y': 1286}, {'x': 396, 'y': 1285}, {'x': 396, 'y': 1294}, {'x': 388, 'y': 1294}]}, 'confidence': 0.6786, 'id': 166, 'text': '●'}, {'boundingBox': {'vertices': [{'x': 404, 'y': 1281}, {'x': 440, 'y': 1281}, {'x': 440, 'y': 1301}, {'x': 404, 'y': 1301}]}, 'confidence': 0.9952, 'id': 167, 'text': '높은'}, {'boundingBox': {'vertices': [{'x': 445, 'y': 1281}, {'x': 536, 'y': 1280}, {'x': 536, 'y': 1301}, {'x': 446, 'y': 1302}]}, 'confidence': 0.997, 'id': 168, 'text': '도시화율을'}, {'boundingBox': {'vertices': [{'x': 541, 'y': 1281}, {'x': 599, 'y': 1281}, {'x': 599, 'y': 1301}, {'x': 541, 'y': 1301}]}, 'confidence': 0.9969, 'id': 169, 'text': '보이며,'}, {'boundingBox': {'vertices': [{'x': 609, 'y': 1280}, {'x': 696, 'y': 1280}, {'x': 696, 'y': 1301}, {'x': 609, 'y': 1301}]}, 'confidence': 0.998, 'id': 170, 'text': '대도시권이'}, {'boundingBox': {'vertices': [{'x': 702, 'y': 1281}, {'x': 756, 'y': 1280}, {'x': 756, 'y': 1301}, {'x': 703, 'y': 1302}]}, 'confidence': 0.9868, 'id': 171, 'text': '확대됨'}, {'boundingBox': {'vertices': [{'x': 388, 'y': 1316}, {'x': 396, 'y': 1315}, {'x': 396, 'y': 1324}, {'x': 388, 'y': 1324}]}, 'confidence': 0.7273, 'id': 172, 'text': '·'}, {'boundingBox': {'vertices': [{'x': 404, 'y': 1311}, {'x': 492, 'y': 1311}, {'x': 492, 'y': 1331}, {'x': 404, 'y': 1331}]}, 'confidence': 0.9972, 'id': 173, 'text': '도시화율의'}, {'boundingBox': {'vertices': [{'x': 498, 'y': 1311}, {'x': 553, 'y': 1311}, {'x': 553, 'y': 1332}, {'x': 498, 'y': 1332}]}, 'confidence': 0.9978, 'id': 174, 'text': '증가가'}, {'boundingBox': {'vertices': [{'x': 559, 'y': 1311}, {'x': 596, 'y': 1311}, {'x': 596, 'y': 1331}, {'x': 559, 'y': 1331}]}, 'confidence': 0.9977, 'id': 175, 'text': '점차'}, {'boundingBox': {'vertices': [{'x': 601, 'y': 1311}, {'x': 691, 'y': 1311}, {'x': 691, 'y': 1332}, {'x': 601, 'y': 1332}]}, 'confidence': 0.996, 'id': 176, 'text': '느려지거나'}, {'boundingBox': {'vertices': [{'x': 697, 'y': 1311}, {'x': 766, 'y': 1311}, {'x': 766, 'y': 1332}, {'x': 697, 'y': 1332}]}, 'confidence': 0.9981, 'id': 177, 'text': '정체되어'}, {'boundingBox': {'vertices': [{'x': 775, 'y': 1311}, {'x': 811, 'y': 1311}, {'x': 811, 'y': 1332}, {'x': 775, 'y': 1332}]}, 'confidence': 0.997, 'id': 178, 'text': '있음'}, {'boundingBox': {'vertices': [{'x': 283, 'y': 1326}, {'x': 321, 'y': 1326}, {'x': 321, 'y': 1347}, {'x': 283, 'y': 1347}]}, 'confidence': 0.9916, 'id': 179, 'text': '종착'}, {'boundingBox': {'vertices': [{'x': 328, 'y': 1326}, {'x': 364, 'y': 1326}, {'x': 364, 'y': 1347}, {'x': 328, 'y': 1347}]}, 'confidence': 0.9916, 'id': 180, 'text': '단계'}, {'boundingBox': {'vertices': [{'x': 388, 'y': 1346}, {'x': 395, 'y': 1346}, {'x': 396, 'y': 1354}, {'x': 388, 'y': 1354}]}, 'confidence': 0.6654, 'id': 181, 'text': '●'}, {'boundingBox': {'vertices': [{'x': 404, 'y': 1342}, {'x': 438, 'y': 1342}, {'x': 438, 'y': 1362}, {'x': 404, 'y': 1362}]}, 'confidence': 0.9956, 'id': 182, 'text': '도시'}, {'boundingBox': {'vertices': [{'x': 444, 'y': 1342}, {'x': 513, 'y': 1341}, {'x': 513, 'y': 1362}, {'x': 444, 'y': 1363}]}, 'confidence': 0.9983, 'id': 183, 'text': '지역에서'}, {'boundingBox': {'vertices': [{'x': 520, 'y': 1341}, {'x': 572, 'y': 1341}, {'x': 572, 'y': 1362}, {'x': 520, 'y': 1362}]}, 'confidence': 0.9947, 'id': 184, 'text': '비도시'}, {'boundingBox': {'vertices': [{'x': 578, 'y': 1342}, {'x': 648, 'y': 1342}, {'x': 648, 'y': 1362}, {'x': 578, 'y': 1362}]}, 'confidence': 0.9989, 'id': 185, 'text': '지역으로'}, {'boundingBox': {'vertices': [{'x': 654, 'y': 1341}, {'x': 707, 'y': 1341}, {'x': 707, 'y': 1362}, {'x': 654, 'y': 1362}]}, 'confidence': 0.9974, 'id': 186, 'text': '인구가'}, {'boundingBox': {'vertices': [{'x': 712, 'y': 1341}, {'x': 782, 'y': 1341}, {'x': 782, 'y': 1362}, {'x': 712, 'y': 1362}]}, 'confidence': 0.9979, 'id': 187, 'text': '이동하는'}, {'boundingBox': {'vertices': [{'x': 787, 'y': 1341}, {'x': 859, 'y': 1341}, {'x': 859, 'y': 1362}, {'x': 787, 'y': 1362}]}, 'confidence': 0.9951, 'id': 188, 'text': '역도시화'}, {'boundingBox': {'vertices': [{'x': 863, 'y': 1341}, {'x': 914, 'y': 1341}, {'x': 914, 'y': 1362}, {'x': 863, 'y': 1362}]}, 'confidence': 0.9976, 'id': 189, 'text': '현상이'}, {'boundingBox': {'vertices': [{'x': 921, 'y': 1341}, {'x': 1009, 'y': 1341}, {'x': 1009, 'y': 1362}, {'x': 921, 'y': 1362}]}, 'confidence': 0.9988, 'id': 190, 'text': '나타나기도'}, {'boundingBox': {'vertices': [{'x': 1013, 'y': 1342}, {'x': 1031, 'y': 1341}, {'x': 1032, 'y': 1361}, {'x': 1014, 'y': 1361}]}, 'confidence': 0.9872, 'id': 191, 'text': '함'}, {'boundingBox': {'vertices': [{'x': 388, 'y': 1376}, {'x': 395, 'y': 1376}, {'x': 396, 'y': 1385}, {'x': 388, 'y': 1385}]}, 'confidence': 0.6636, 'id': 192, 'text': '·'}, {'boundingBox': {'vertices': [{'x': 404, 'y': 1372}, {'x': 474, 'y': 1372}, {'x': 474, 'y': 1392}, {'x': 404, 'y': 1392}]}, 'confidence': 0.9955, 'id': 193, 'text': '선진국이'}, {'boundingBox': {'vertices': [{'x': 482, 'y': 1372}, {'x': 534, 'y': 1372}, {'x': 534, 'y': 1392}, {'x': 482, 'y': 1392}]}, 'confidence': 0.9904, 'id': 194, 'text': '해당됨'}, {'boundingBox': {'vertices': [{'x': 203, 'y': 1464}, {'x': 229, 'y': 1464}, {'x': 229, 'y': 1482}, {'x': 203, 'y': 1482}]}, 'confidence': 0.9976, 'id': 195, 'text': '52'}, {'boundingBox': {'vertices': [{'x': 245, 'y': 1466}, {'x': 290, 'y': 1466}, {'x': 290, 'y': 1482}, {'x': 245, 'y': 1482}]}, 'confidence': 0.9988, 'id': 196, 'text': 'PART'}, {'boundingBox': {'vertices': [{'x': 292, 'y': 1467}, {'x': 314, 'y': 1466}, {'x': 314, 'y': 1482}, {'x': 292, 'y': 1482}]}, 'confidence': 0.9912, 'id': 197, 'text': '03'}, {'boundingBox': {'vertices': [{'x': 322, 'y': 1466}, {'x': 354, 'y': 1466}, {'x': 354, 'y': 1484}, {'x': 322, 'y': 1484}]}, 'confidence': 0.9923, 'id': 198, 'text': '생활'}, {'boundingBox': {'vertices': [{'x': 361, 'y': 1466}, {'x': 408, 'y': 1466}, {'x': 408, 'y': 1484}, {'x': 361, 'y': 1484}]}, 'confidence': 0.9987, 'id': 199, 'text': '공간과'}, {'boundingBox': {'vertices': [{'x': 415, 'y': 1466}, {'x': 446, 'y': 1466}, {'x': 446, 'y': 1484}, {'x': 415, 'y': 1484}]}, 'confidence': 0.9972, 'id': 200, 'text': '사회'}, {'boundingBox': {'vertices': [{'x': 48, 'y': 1706}, {'x': 303, 'y': 1706}, {'x': 303, 'y': 1723}, {'x': 48, 'y': 1723}]}, 'confidence': 0.98, 'id': 201, 'text': '218.38.12.36/ebook/ebook/h_society/'}, {'boundingBox': {'vertices': [{'x': 1167, 'y': 1706}, {'x': 1190, 'y': 1706}, {'x': 1190, 'y': 1721}, {'x': 1167, 'y': 1721}]}, 'confidence': 0.9992, 'id': 202, 'text': '1/1'}]}], 'stored': False, 'text': '25. 1. 14. 오후 10:24 고졸 성인학습자_사회 \\nCHAPTER \\n01 산업화 · 도시화에 따른 변화 \\n학습목표 \\n· 산업화 · 도시화로 나타나는 생활 공간과 생활 양식의 변화를 알 수 있다. \\n· 산업화 · 도시화로 나타나는 문제점을 해결하는 방안을 제시할 수 있다. \\n출제 \\n산업화 · 도시화의 특징과 열섬 현상이 자주 출제된다. \\nPoint \\n01 산업화 · 도시화에 따른 변화 \\n(1) 산업화와 도시화 \\n① 산업화 \\n㉠ 의미 : 농업 중심의 사회에서 공업, 서비스업 중심으로 변화하는 현상이다. \\n특징 \\n· 산업화로 인해 공업과 서비스업의 종사자 비중이 늘어난다. \\n· 기계화와 분업으로 제품의 대량 생산과 대량 소비가 가능해졌다. \\n② 도시화 \\n㉠ 의미 : 한 국가 내에서 도시 거주 인구 비율이 높아지고 도시적 생활 양식과 도시적 경관 \\n이 확대되는 현상이다. \\n특징 : 산업화가 진행되면서 촌락에서 도시로의 인구 이동이 활발해져 도시화의 가속화 \\n에 영향을 준다. \\n③ 도시화 과정 \\n· 도시화율이 낮음 \\n초기 단계 \\n● 대부분의 인구가 촌락에 분포하고, 1차 산업에 종사함 \\n● 산업화를 계기로 이촌 향도 현상이 발생하면서 급격한 도시화가 이루어짐 \\n가속화 단계 → 2 · 3차 산업이 발달함 \\n● 대부분 개발 도상국은 가속화 단계 진행 중 \\n● 높은 도시화율을 보이며, 대도시권이 확대됨 \\n· 도시화율의 증가가 점차 느려지거나 정체되어 있음 \\n종착 단계 \\n● 도시 지역에서 비도시 지역으로 인구가 이동하는 역도시화 현상이 나타나기도 함 \\n· 선진국이 해당됨 \\n52 PART 03 생활 공간과 사회 \\n218.38.12.36/ebook/ebook/h_society/ 1/1'}\n"
     ]
    }
   ],
   "source": [
    "# OCR\n",
    "api_key = os.environ['UPSTAGE_API_KEY']\n",
    "filename = \"./data/고졸 성인학습자_사회_54page.pdf\"\n",
    "\n",
    "url = \"https://api.upstage.ai/v1/document-ai/ocr\"\n",
    "headers = {\"Authorization\": f\"Bearer {api_key}\"}\n",
    "\n",
    "files = {\"document\": open(filename, \"rb\")}\n",
    "response = requests.post(url, headers=headers, files=files)\n",
    "\n",
    "print(response.json())"
   ]
  },
  {
   "cell_type": "code",
   "execution_count": 15,
   "metadata": {},
   "outputs": [
    {
     "data": {
      "text/plain": [
       "'25. 1. 14. 오후 10:24 고졸 성인학습자_사회 \\nCHAPTER \\n01 산업화 · 도시화에 따른 변화 \\n학습목표 \\n· 산업화 · 도시화로 나타나는 생활 공간과 생활 양식의 변화를 알 수 있다. \\n· 산업화 · 도시화로 나타나는 문제점을 해결하는 방안을 제시할 수 있다. \\n출제 \\n산업화 · 도시화의 특징과 열섬 현상이 자주 출제된다. \\nPoint \\n01 산업화 · 도시화에 따른 변화 \\n(1) 산업화와 도시화 \\n① 산업화 \\n㉠ 의미 : 농업 중심의 사회에서 공업, 서비스업 중심으로 변화하는 현상이다. \\n특징 \\n· 산업화로 인해 공업과 서비스업의 종사자 비중이 늘어난다. \\n· 기계화와 분업으로 제품의 대량 생산과 대량 소비가 가능해졌다. \\n② 도시화 \\n㉠ 의미 : 한 국가 내에서 도시 거주 인구 비율이 높아지고 도시적 생활 양식과 도시적 경관 \\n이 확대되는 현상이다. \\n특징 : 산업화가 진행되면서 촌락에서 도시로의 인구 이동이 활발해져 도시화의 가속화 \\n에 영향을 준다. \\n③ 도시화 과정 \\n· 도시화율이 낮음 \\n초기 단계 \\n● 대부분의 인구가 촌락에 분포하고, 1차 산업에 종사함 \\n● 산업화를 계기로 이촌 향도 현상이 발생하면서 급격한 도시화가 이루어짐 \\n가속화 단계 → 2 · 3차 산업이 발달함 \\n● 대부분 개발 도상국은 가속화 단계 진행 중 \\n● 높은 도시화율을 보이며, 대도시권이 확대됨 \\n· 도시화율의 증가가 점차 느려지거나 정체되어 있음 \\n종착 단계 \\n● 도시 지역에서 비도시 지역으로 인구가 이동하는 역도시화 현상이 나타나기도 함 \\n· 선진국이 해당됨 \\n52 PART 03 생활 공간과 사회 \\n218.38.12.36/ebook/ebook/h_society/ 1/1'"
      ]
     },
     "execution_count": 15,
     "metadata": {},
     "output_type": "execute_result"
    }
   ],
   "source": [
    "response.json()[\"text\"]"
   ]
  },
  {
   "cell_type": "code",
   "execution_count": null,
   "metadata": {},
   "outputs": [],
   "source": []
  },
  {
   "cell_type": "code",
   "execution_count": 16,
   "metadata": {},
   "outputs": [],
   "source": [
    "# OCR을 이용해서 content 수정하기\n",
    "pages[0].page_content = response.json()[\"text\"]"
   ]
  },
  {
   "cell_type": "code",
   "execution_count": 17,
   "metadata": {},
   "outputs": [
    {
     "data": {
      "text/plain": [
       "[Document(metadata={'total_pages': 1, 'coordinates': [[{'x': 0.0355, 'y': 0.0173}, {'x': 0.159, 'y': 0.0173}, {'x': 0.159, 'y': 0.0302}, {'x': 0.0355, 'y': 0.0302}], [{'x': 0.5143, 'y': 0.0163}, {'x': 0.6505, 'y': 0.0163}, {'x': 0.6505, 'y': 0.0309}, {'x': 0.5143, 'y': 0.0309}], [{'x': 0.2125, 'y': 0.4215}, {'x': 0.759, 'y': 0.4215}, {'x': 0.759, 'y': 0.4593}, {'x': 0.2125, 'y': 0.4593}], [{'x': 0.2356, 'y': 0.4645}, {'x': 0.7019, 'y': 0.4645}, {'x': 0.7019, 'y': 0.502}, {'x': 0.2356, 'y': 0.502}], [{'x': 0.2093, 'y': 0.5281}, {'x': 0.8371, 'y': 0.5281}, {'x': 0.8371, 'y': 0.6098}, {'x': 0.2093, 'y': 0.6098}], [{'x': 0.0364, 'y': 0.9706}, {'x': 0.2465, 'y': 0.9706}, {'x': 0.2465, 'y': 0.9834}, {'x': 0.0364, 'y': 0.9834}], [{'x': 0.9407, 'y': 0.9716}, {'x': 0.9604, 'y': 0.9716}, {'x': 0.9604, 'y': 0.9822}, {'x': 0.9407, 'y': 0.9822}]]}, page_content='25. 1. 14. 오후 10:24 고졸 성인학습자_사회 \\nCHAPTER \\n01 산업화 · 도시화에 따른 변화 \\n학습목표 \\n· 산업화 · 도시화로 나타나는 생활 공간과 생활 양식의 변화를 알 수 있다. \\n· 산업화 · 도시화로 나타나는 문제점을 해결하는 방안을 제시할 수 있다. \\n출제 \\n산업화 · 도시화의 특징과 열섬 현상이 자주 출제된다. \\nPoint \\n01 산업화 · 도시화에 따른 변화 \\n(1) 산업화와 도시화 \\n① 산업화 \\n㉠ 의미 : 농업 중심의 사회에서 공업, 서비스업 중심으로 변화하는 현상이다. \\n특징 \\n· 산업화로 인해 공업과 서비스업의 종사자 비중이 늘어난다. \\n· 기계화와 분업으로 제품의 대량 생산과 대량 소비가 가능해졌다. \\n② 도시화 \\n㉠ 의미 : 한 국가 내에서 도시 거주 인구 비율이 높아지고 도시적 생활 양식과 도시적 경관 \\n이 확대되는 현상이다. \\n특징 : 산업화가 진행되면서 촌락에서 도시로의 인구 이동이 활발해져 도시화의 가속화 \\n에 영향을 준다. \\n③ 도시화 과정 \\n· 도시화율이 낮음 \\n초기 단계 \\n● 대부분의 인구가 촌락에 분포하고, 1차 산업에 종사함 \\n● 산업화를 계기로 이촌 향도 현상이 발생하면서 급격한 도시화가 이루어짐 \\n가속화 단계 → 2 · 3차 산업이 발달함 \\n● 대부분 개발 도상국은 가속화 단계 진행 중 \\n● 높은 도시화율을 보이며, 대도시권이 확대됨 \\n· 도시화율의 증가가 점차 느려지거나 정체되어 있음 \\n종착 단계 \\n● 도시 지역에서 비도시 지역으로 인구가 이동하는 역도시화 현상이 나타나기도 함 \\n· 선진국이 해당됨 \\n52 PART 03 생활 공간과 사회 \\n218.38.12.36/ebook/ebook/h_society/ 1/1')]"
      ]
     },
     "execution_count": 17,
     "metadata": {},
     "output_type": "execute_result"
    }
   ],
   "source": [
    "pages"
   ]
  },
  {
   "cell_type": "code",
   "execution_count": null,
   "metadata": {},
   "outputs": [],
   "source": []
  },
  {
   "cell_type": "code",
   "execution_count": 18,
   "metadata": {},
   "outputs": [
    {
     "name": "stdout",
     "output_type": "stream",
     "text": [
      "분할된 청크의수: 10\n"
     ]
    }
   ],
   "source": [
    "# 단계 2: 문서 분할(Split Documents)\n",
    "text_splitter = RecursiveCharacterTextSplitter(chunk_size=100, chunk_overlap=10)\n",
    "split_documents = text_splitter.split_documents(pages)\n",
    "print(f\"분할된 청크의수: {len(split_documents)}\")"
   ]
  },
  {
   "cell_type": "code",
   "execution_count": 19,
   "metadata": {},
   "outputs": [
    {
     "data": {
      "text/plain": [
       "[Document(metadata={'total_pages': 1, 'coordinates': [[{'x': 0.0355, 'y': 0.0173}, {'x': 0.159, 'y': 0.0173}, {'x': 0.159, 'y': 0.0302}, {'x': 0.0355, 'y': 0.0302}], [{'x': 0.5143, 'y': 0.0163}, {'x': 0.6505, 'y': 0.0163}, {'x': 0.6505, 'y': 0.0309}, {'x': 0.5143, 'y': 0.0309}], [{'x': 0.2125, 'y': 0.4215}, {'x': 0.759, 'y': 0.4215}, {'x': 0.759, 'y': 0.4593}, {'x': 0.2125, 'y': 0.4593}], [{'x': 0.2356, 'y': 0.4645}, {'x': 0.7019, 'y': 0.4645}, {'x': 0.7019, 'y': 0.502}, {'x': 0.2356, 'y': 0.502}], [{'x': 0.2093, 'y': 0.5281}, {'x': 0.8371, 'y': 0.5281}, {'x': 0.8371, 'y': 0.6098}, {'x': 0.2093, 'y': 0.6098}], [{'x': 0.0364, 'y': 0.9706}, {'x': 0.2465, 'y': 0.9706}, {'x': 0.2465, 'y': 0.9834}, {'x': 0.0364, 'y': 0.9834}], [{'x': 0.9407, 'y': 0.9716}, {'x': 0.9604, 'y': 0.9716}, {'x': 0.9604, 'y': 0.9822}, {'x': 0.9407, 'y': 0.9822}]]}, page_content='25. 1. 14. 오후 10:24 고졸 성인학습자_사회 \\nCHAPTER \\n01 산업화 · 도시화에 따른 변화 \\n학습목표'),\n",
       " Document(metadata={'total_pages': 1, 'coordinates': [[{'x': 0.0355, 'y': 0.0173}, {'x': 0.159, 'y': 0.0173}, {'x': 0.159, 'y': 0.0302}, {'x': 0.0355, 'y': 0.0302}], [{'x': 0.5143, 'y': 0.0163}, {'x': 0.6505, 'y': 0.0163}, {'x': 0.6505, 'y': 0.0309}, {'x': 0.5143, 'y': 0.0309}], [{'x': 0.2125, 'y': 0.4215}, {'x': 0.759, 'y': 0.4215}, {'x': 0.759, 'y': 0.4593}, {'x': 0.2125, 'y': 0.4593}], [{'x': 0.2356, 'y': 0.4645}, {'x': 0.7019, 'y': 0.4645}, {'x': 0.7019, 'y': 0.502}, {'x': 0.2356, 'y': 0.502}], [{'x': 0.2093, 'y': 0.5281}, {'x': 0.8371, 'y': 0.5281}, {'x': 0.8371, 'y': 0.6098}, {'x': 0.2093, 'y': 0.6098}], [{'x': 0.0364, 'y': 0.9706}, {'x': 0.2465, 'y': 0.9706}, {'x': 0.2465, 'y': 0.9834}, {'x': 0.0364, 'y': 0.9834}], [{'x': 0.9407, 'y': 0.9716}, {'x': 0.9604, 'y': 0.9716}, {'x': 0.9604, 'y': 0.9822}, {'x': 0.9407, 'y': 0.9822}]]}, page_content='학습목표 \\n· 산업화 · 도시화로 나타나는 생활 공간과 생활 양식의 변화를 알 수 있다. \\n· 산업화 · 도시화로 나타나는 문제점을 해결하는 방안을 제시할 수 있다. \\n출제'),\n",
       " Document(metadata={'total_pages': 1, 'coordinates': [[{'x': 0.0355, 'y': 0.0173}, {'x': 0.159, 'y': 0.0173}, {'x': 0.159, 'y': 0.0302}, {'x': 0.0355, 'y': 0.0302}], [{'x': 0.5143, 'y': 0.0163}, {'x': 0.6505, 'y': 0.0163}, {'x': 0.6505, 'y': 0.0309}, {'x': 0.5143, 'y': 0.0309}], [{'x': 0.2125, 'y': 0.4215}, {'x': 0.759, 'y': 0.4215}, {'x': 0.759, 'y': 0.4593}, {'x': 0.2125, 'y': 0.4593}], [{'x': 0.2356, 'y': 0.4645}, {'x': 0.7019, 'y': 0.4645}, {'x': 0.7019, 'y': 0.502}, {'x': 0.2356, 'y': 0.502}], [{'x': 0.2093, 'y': 0.5281}, {'x': 0.8371, 'y': 0.5281}, {'x': 0.8371, 'y': 0.6098}, {'x': 0.2093, 'y': 0.6098}], [{'x': 0.0364, 'y': 0.9706}, {'x': 0.2465, 'y': 0.9706}, {'x': 0.2465, 'y': 0.9834}, {'x': 0.0364, 'y': 0.9834}], [{'x': 0.9407, 'y': 0.9716}, {'x': 0.9604, 'y': 0.9716}, {'x': 0.9604, 'y': 0.9822}, {'x': 0.9407, 'y': 0.9822}]]}, page_content='출제 \\n산업화 · 도시화의 특징과 열섬 현상이 자주 출제된다. \\nPoint \\n01 산업화 · 도시화에 따른 변화 \\n(1) 산업화와 도시화 \\n① 산업화'),\n",
       " Document(metadata={'total_pages': 1, 'coordinates': [[{'x': 0.0355, 'y': 0.0173}, {'x': 0.159, 'y': 0.0173}, {'x': 0.159, 'y': 0.0302}, {'x': 0.0355, 'y': 0.0302}], [{'x': 0.5143, 'y': 0.0163}, {'x': 0.6505, 'y': 0.0163}, {'x': 0.6505, 'y': 0.0309}, {'x': 0.5143, 'y': 0.0309}], [{'x': 0.2125, 'y': 0.4215}, {'x': 0.759, 'y': 0.4215}, {'x': 0.759, 'y': 0.4593}, {'x': 0.2125, 'y': 0.4593}], [{'x': 0.2356, 'y': 0.4645}, {'x': 0.7019, 'y': 0.4645}, {'x': 0.7019, 'y': 0.502}, {'x': 0.2356, 'y': 0.502}], [{'x': 0.2093, 'y': 0.5281}, {'x': 0.8371, 'y': 0.5281}, {'x': 0.8371, 'y': 0.6098}, {'x': 0.2093, 'y': 0.6098}], [{'x': 0.0364, 'y': 0.9706}, {'x': 0.2465, 'y': 0.9706}, {'x': 0.2465, 'y': 0.9834}, {'x': 0.0364, 'y': 0.9834}], [{'x': 0.9407, 'y': 0.9716}, {'x': 0.9604, 'y': 0.9716}, {'x': 0.9604, 'y': 0.9822}, {'x': 0.9407, 'y': 0.9822}]]}, page_content='① 산업화 \\n㉠ 의미 : 농업 중심의 사회에서 공업, 서비스업 중심으로 변화하는 현상이다. \\n특징 \\n· 산업화로 인해 공업과 서비스업의 종사자 비중이 늘어난다.'),\n",
       " Document(metadata={'total_pages': 1, 'coordinates': [[{'x': 0.0355, 'y': 0.0173}, {'x': 0.159, 'y': 0.0173}, {'x': 0.159, 'y': 0.0302}, {'x': 0.0355, 'y': 0.0302}], [{'x': 0.5143, 'y': 0.0163}, {'x': 0.6505, 'y': 0.0163}, {'x': 0.6505, 'y': 0.0309}, {'x': 0.5143, 'y': 0.0309}], [{'x': 0.2125, 'y': 0.4215}, {'x': 0.759, 'y': 0.4215}, {'x': 0.759, 'y': 0.4593}, {'x': 0.2125, 'y': 0.4593}], [{'x': 0.2356, 'y': 0.4645}, {'x': 0.7019, 'y': 0.4645}, {'x': 0.7019, 'y': 0.502}, {'x': 0.2356, 'y': 0.502}], [{'x': 0.2093, 'y': 0.5281}, {'x': 0.8371, 'y': 0.5281}, {'x': 0.8371, 'y': 0.6098}, {'x': 0.2093, 'y': 0.6098}], [{'x': 0.0364, 'y': 0.9706}, {'x': 0.2465, 'y': 0.9706}, {'x': 0.2465, 'y': 0.9834}, {'x': 0.0364, 'y': 0.9834}], [{'x': 0.9407, 'y': 0.9716}, {'x': 0.9604, 'y': 0.9716}, {'x': 0.9604, 'y': 0.9822}, {'x': 0.9407, 'y': 0.9822}]]}, page_content='· 기계화와 분업으로 제품의 대량 생산과 대량 소비가 가능해졌다. \\n② 도시화 \\n㉠ 의미 : 한 국가 내에서 도시 거주 인구 비율이 높아지고 도시적 생활 양식과 도시적 경관'),\n",
       " Document(metadata={'total_pages': 1, 'coordinates': [[{'x': 0.0355, 'y': 0.0173}, {'x': 0.159, 'y': 0.0173}, {'x': 0.159, 'y': 0.0302}, {'x': 0.0355, 'y': 0.0302}], [{'x': 0.5143, 'y': 0.0163}, {'x': 0.6505, 'y': 0.0163}, {'x': 0.6505, 'y': 0.0309}, {'x': 0.5143, 'y': 0.0309}], [{'x': 0.2125, 'y': 0.4215}, {'x': 0.759, 'y': 0.4215}, {'x': 0.759, 'y': 0.4593}, {'x': 0.2125, 'y': 0.4593}], [{'x': 0.2356, 'y': 0.4645}, {'x': 0.7019, 'y': 0.4645}, {'x': 0.7019, 'y': 0.502}, {'x': 0.2356, 'y': 0.502}], [{'x': 0.2093, 'y': 0.5281}, {'x': 0.8371, 'y': 0.5281}, {'x': 0.8371, 'y': 0.6098}, {'x': 0.2093, 'y': 0.6098}], [{'x': 0.0364, 'y': 0.9706}, {'x': 0.2465, 'y': 0.9706}, {'x': 0.2465, 'y': 0.9834}, {'x': 0.0364, 'y': 0.9834}], [{'x': 0.9407, 'y': 0.9716}, {'x': 0.9604, 'y': 0.9716}, {'x': 0.9604, 'y': 0.9822}, {'x': 0.9407, 'y': 0.9822}]]}, page_content='이 확대되는 현상이다. \\n특징 : 산업화가 진행되면서 촌락에서 도시로의 인구 이동이 활발해져 도시화의 가속화 \\n에 영향을 준다. \\n③ 도시화 과정 \\n· 도시화율이 낮음'),\n",
       " Document(metadata={'total_pages': 1, 'coordinates': [[{'x': 0.0355, 'y': 0.0173}, {'x': 0.159, 'y': 0.0173}, {'x': 0.159, 'y': 0.0302}, {'x': 0.0355, 'y': 0.0302}], [{'x': 0.5143, 'y': 0.0163}, {'x': 0.6505, 'y': 0.0163}, {'x': 0.6505, 'y': 0.0309}, {'x': 0.5143, 'y': 0.0309}], [{'x': 0.2125, 'y': 0.4215}, {'x': 0.759, 'y': 0.4215}, {'x': 0.759, 'y': 0.4593}, {'x': 0.2125, 'y': 0.4593}], [{'x': 0.2356, 'y': 0.4645}, {'x': 0.7019, 'y': 0.4645}, {'x': 0.7019, 'y': 0.502}, {'x': 0.2356, 'y': 0.502}], [{'x': 0.2093, 'y': 0.5281}, {'x': 0.8371, 'y': 0.5281}, {'x': 0.8371, 'y': 0.6098}, {'x': 0.2093, 'y': 0.6098}], [{'x': 0.0364, 'y': 0.9706}, {'x': 0.2465, 'y': 0.9706}, {'x': 0.2465, 'y': 0.9834}, {'x': 0.0364, 'y': 0.9834}], [{'x': 0.9407, 'y': 0.9716}, {'x': 0.9604, 'y': 0.9716}, {'x': 0.9604, 'y': 0.9822}, {'x': 0.9407, 'y': 0.9822}]]}, page_content='초기 단계 \\n● 대부분의 인구가 촌락에 분포하고, 1차 산업에 종사함 \\n● 산업화를 계기로 이촌 향도 현상이 발생하면서 급격한 도시화가 이루어짐'),\n",
       " Document(metadata={'total_pages': 1, 'coordinates': [[{'x': 0.0355, 'y': 0.0173}, {'x': 0.159, 'y': 0.0173}, {'x': 0.159, 'y': 0.0302}, {'x': 0.0355, 'y': 0.0302}], [{'x': 0.5143, 'y': 0.0163}, {'x': 0.6505, 'y': 0.0163}, {'x': 0.6505, 'y': 0.0309}, {'x': 0.5143, 'y': 0.0309}], [{'x': 0.2125, 'y': 0.4215}, {'x': 0.759, 'y': 0.4215}, {'x': 0.759, 'y': 0.4593}, {'x': 0.2125, 'y': 0.4593}], [{'x': 0.2356, 'y': 0.4645}, {'x': 0.7019, 'y': 0.4645}, {'x': 0.7019, 'y': 0.502}, {'x': 0.2356, 'y': 0.502}], [{'x': 0.2093, 'y': 0.5281}, {'x': 0.8371, 'y': 0.5281}, {'x': 0.8371, 'y': 0.6098}, {'x': 0.2093, 'y': 0.6098}], [{'x': 0.0364, 'y': 0.9706}, {'x': 0.2465, 'y': 0.9706}, {'x': 0.2465, 'y': 0.9834}, {'x': 0.0364, 'y': 0.9834}], [{'x': 0.9407, 'y': 0.9716}, {'x': 0.9604, 'y': 0.9716}, {'x': 0.9604, 'y': 0.9822}, {'x': 0.9407, 'y': 0.9822}]]}, page_content='가속화 단계 → 2 · 3차 산업이 발달함 \\n● 대부분 개발 도상국은 가속화 단계 진행 중 \\n● 높은 도시화율을 보이며, 대도시권이 확대됨'),\n",
       " Document(metadata={'total_pages': 1, 'coordinates': [[{'x': 0.0355, 'y': 0.0173}, {'x': 0.159, 'y': 0.0173}, {'x': 0.159, 'y': 0.0302}, {'x': 0.0355, 'y': 0.0302}], [{'x': 0.5143, 'y': 0.0163}, {'x': 0.6505, 'y': 0.0163}, {'x': 0.6505, 'y': 0.0309}, {'x': 0.5143, 'y': 0.0309}], [{'x': 0.2125, 'y': 0.4215}, {'x': 0.759, 'y': 0.4215}, {'x': 0.759, 'y': 0.4593}, {'x': 0.2125, 'y': 0.4593}], [{'x': 0.2356, 'y': 0.4645}, {'x': 0.7019, 'y': 0.4645}, {'x': 0.7019, 'y': 0.502}, {'x': 0.2356, 'y': 0.502}], [{'x': 0.2093, 'y': 0.5281}, {'x': 0.8371, 'y': 0.5281}, {'x': 0.8371, 'y': 0.6098}, {'x': 0.2093, 'y': 0.6098}], [{'x': 0.0364, 'y': 0.9706}, {'x': 0.2465, 'y': 0.9706}, {'x': 0.2465, 'y': 0.9834}, {'x': 0.0364, 'y': 0.9834}], [{'x': 0.9407, 'y': 0.9716}, {'x': 0.9604, 'y': 0.9716}, {'x': 0.9604, 'y': 0.9822}, {'x': 0.9407, 'y': 0.9822}]]}, page_content='· 도시화율의 증가가 점차 느려지거나 정체되어 있음 \\n종착 단계 \\n● 도시 지역에서 비도시 지역으로 인구가 이동하는 역도시화 현상이 나타나기도 함 \\n· 선진국이 해당됨'),\n",
       " Document(metadata={'total_pages': 1, 'coordinates': [[{'x': 0.0355, 'y': 0.0173}, {'x': 0.159, 'y': 0.0173}, {'x': 0.159, 'y': 0.0302}, {'x': 0.0355, 'y': 0.0302}], [{'x': 0.5143, 'y': 0.0163}, {'x': 0.6505, 'y': 0.0163}, {'x': 0.6505, 'y': 0.0309}, {'x': 0.5143, 'y': 0.0309}], [{'x': 0.2125, 'y': 0.4215}, {'x': 0.759, 'y': 0.4215}, {'x': 0.759, 'y': 0.4593}, {'x': 0.2125, 'y': 0.4593}], [{'x': 0.2356, 'y': 0.4645}, {'x': 0.7019, 'y': 0.4645}, {'x': 0.7019, 'y': 0.502}, {'x': 0.2356, 'y': 0.502}], [{'x': 0.2093, 'y': 0.5281}, {'x': 0.8371, 'y': 0.5281}, {'x': 0.8371, 'y': 0.6098}, {'x': 0.2093, 'y': 0.6098}], [{'x': 0.0364, 'y': 0.9706}, {'x': 0.2465, 'y': 0.9706}, {'x': 0.2465, 'y': 0.9834}, {'x': 0.0364, 'y': 0.9834}], [{'x': 0.9407, 'y': 0.9716}, {'x': 0.9604, 'y': 0.9716}, {'x': 0.9604, 'y': 0.9822}, {'x': 0.9407, 'y': 0.9822}]]}, page_content='52 PART 03 생활 공간과 사회 \\n218.38.12.36/ebook/ebook/h_society/ 1/1')]"
      ]
     },
     "execution_count": 19,
     "metadata": {},
     "output_type": "execute_result"
    }
   ],
   "source": [
    "split_documents"
   ]
  },
  {
   "cell_type": "code",
   "execution_count": null,
   "metadata": {},
   "outputs": [],
   "source": []
  },
  {
   "cell_type": "code",
   "execution_count": 20,
   "metadata": {},
   "outputs": [],
   "source": [
    "# 단계 3: 임베딩(Embedding) 생성\n",
    "# embeddings = UpstageEmbeddings()\n",
    "\n",
    "embeddings = UpstageEmbeddings(model=\"embedding-query\")"
   ]
  },
  {
   "cell_type": "code",
   "execution_count": null,
   "metadata": {},
   "outputs": [],
   "source": []
  },
  {
   "cell_type": "code",
   "execution_count": 21,
   "metadata": {},
   "outputs": [],
   "source": [
    "# 단계 4: DB 생성(Create DB) 및 저장\n",
    "# 벡터스토어를 생성합니다.\n",
    "vectorstore = FAISS.from_documents(documents=split_documents, embedding=embeddings)"
   ]
  },
  {
   "cell_type": "code",
   "execution_count": 22,
   "metadata": {},
   "outputs": [
    {
     "data": {
      "text/plain": [
       "<langchain_community.vectorstores.faiss.FAISS at 0x13694c790>"
      ]
     },
     "execution_count": 22,
     "metadata": {},
     "output_type": "execute_result"
    }
   ],
   "source": [
    "vectorstore"
   ]
  },
  {
   "cell_type": "code",
   "execution_count": 23,
   "metadata": {},
   "outputs": [
    {
     "name": "stdout",
     "output_type": "stream",
     "text": [
      "초기 단계 \n",
      "● 대부분의 인구가 촌락에 분포하고, 1차 산업에 종사함 \n",
      "● 산업화를 계기로 이촌 향도 현상이 발생하면서 급격한 도시화가 이루어짐\n",
      "++++++++++++++++++++++++++++++++++++++++++++++++++++++++++++++++++++++++++++++++++++++++++++++++++++\n",
      "25. 1. 14. 오후 10:24 고졸 성인학습자_사회 \n",
      "CHAPTER \n",
      "01 산업화 · 도시화에 따른 변화 \n",
      "학습목표\n",
      "++++++++++++++++++++++++++++++++++++++++++++++++++++++++++++++++++++++++++++++++++++++++++++++++++++\n",
      "가속화 단계 → 2 · 3차 산업이 발달함 \n",
      "● 대부분 개발 도상국은 가속화 단계 진행 중 \n",
      "● 높은 도시화율을 보이며, 대도시권이 확대됨\n",
      "++++++++++++++++++++++++++++++++++++++++++++++++++++++++++++++++++++++++++++++++++++++++++++++++++++\n",
      "① 산업화 \n",
      "㉠ 의미 : 농업 중심의 사회에서 공업, 서비스업 중심으로 변화하는 현상이다. \n",
      "특징 \n",
      "· 산업화로 인해 공업과 서비스업의 종사자 비중이 늘어난다.\n",
      "++++++++++++++++++++++++++++++++++++++++++++++++++++++++++++++++++++++++++++++++++++++++++++++++++++\n"
     ]
    }
   ],
   "source": [
    "for doc in vectorstore.similarity_search(\"산업화\"):\n",
    "    print(doc.page_content)\n",
    "    print(\"+\" * 100)"
   ]
  },
  {
   "cell_type": "code",
   "execution_count": null,
   "metadata": {},
   "outputs": [],
   "source": []
  },
  {
   "cell_type": "code",
   "execution_count": 24,
   "metadata": {},
   "outputs": [],
   "source": [
    "# 단계 5: 검색기(Retriever) 생성\n",
    "# 문서에 포함되어 있는 정보를 검색하고 생성합니다.\n",
    "retriever = vectorstore.as_retriever()"
   ]
  },
  {
   "cell_type": "code",
   "execution_count": 25,
   "metadata": {},
   "outputs": [
    {
     "data": {
      "text/plain": [
       "VectorStoreRetriever(tags=['FAISS', 'UpstageEmbeddings'], vectorstore=<langchain_community.vectorstores.faiss.FAISS object at 0x13694c790>, search_kwargs={})"
      ]
     },
     "execution_count": 25,
     "metadata": {},
     "output_type": "execute_result"
    }
   ],
   "source": [
    "retriever"
   ]
  },
  {
   "cell_type": "code",
   "execution_count": 26,
   "metadata": {},
   "outputs": [
    {
     "data": {
      "text/plain": [
       "[Document(id='1bc78ce8-e5cc-4466-9531-4efeed5ccd16', metadata={'total_pages': 1, 'coordinates': [[{'x': 0.0355, 'y': 0.0173}, {'x': 0.159, 'y': 0.0173}, {'x': 0.159, 'y': 0.0302}, {'x': 0.0355, 'y': 0.0302}], [{'x': 0.5143, 'y': 0.0163}, {'x': 0.6505, 'y': 0.0163}, {'x': 0.6505, 'y': 0.0309}, {'x': 0.5143, 'y': 0.0309}], [{'x': 0.2125, 'y': 0.4215}, {'x': 0.759, 'y': 0.4215}, {'x': 0.759, 'y': 0.4593}, {'x': 0.2125, 'y': 0.4593}], [{'x': 0.2356, 'y': 0.4645}, {'x': 0.7019, 'y': 0.4645}, {'x': 0.7019, 'y': 0.502}, {'x': 0.2356, 'y': 0.502}], [{'x': 0.2093, 'y': 0.5281}, {'x': 0.8371, 'y': 0.5281}, {'x': 0.8371, 'y': 0.6098}, {'x': 0.2093, 'y': 0.6098}], [{'x': 0.0364, 'y': 0.9706}, {'x': 0.2465, 'y': 0.9706}, {'x': 0.2465, 'y': 0.9834}, {'x': 0.0364, 'y': 0.9834}], [{'x': 0.9407, 'y': 0.9716}, {'x': 0.9604, 'y': 0.9716}, {'x': 0.9604, 'y': 0.9822}, {'x': 0.9407, 'y': 0.9822}]]}, page_content='① 산업화 \\n㉠ 의미 : 농업 중심의 사회에서 공업, 서비스업 중심으로 변화하는 현상이다. \\n특징 \\n· 산업화로 인해 공업과 서비스업의 종사자 비중이 늘어난다.'),\n",
       " Document(id='ae9c83b1-25dd-49d3-b589-32e336f1b80b', metadata={'total_pages': 1, 'coordinates': [[{'x': 0.0355, 'y': 0.0173}, {'x': 0.159, 'y': 0.0173}, {'x': 0.159, 'y': 0.0302}, {'x': 0.0355, 'y': 0.0302}], [{'x': 0.5143, 'y': 0.0163}, {'x': 0.6505, 'y': 0.0163}, {'x': 0.6505, 'y': 0.0309}, {'x': 0.5143, 'y': 0.0309}], [{'x': 0.2125, 'y': 0.4215}, {'x': 0.759, 'y': 0.4215}, {'x': 0.759, 'y': 0.4593}, {'x': 0.2125, 'y': 0.4593}], [{'x': 0.2356, 'y': 0.4645}, {'x': 0.7019, 'y': 0.4645}, {'x': 0.7019, 'y': 0.502}, {'x': 0.2356, 'y': 0.502}], [{'x': 0.2093, 'y': 0.5281}, {'x': 0.8371, 'y': 0.5281}, {'x': 0.8371, 'y': 0.6098}, {'x': 0.2093, 'y': 0.6098}], [{'x': 0.0364, 'y': 0.9706}, {'x': 0.2465, 'y': 0.9706}, {'x': 0.2465, 'y': 0.9834}, {'x': 0.0364, 'y': 0.9834}], [{'x': 0.9407, 'y': 0.9716}, {'x': 0.9604, 'y': 0.9716}, {'x': 0.9604, 'y': 0.9822}, {'x': 0.9407, 'y': 0.9822}]]}, page_content='· 기계화와 분업으로 제품의 대량 생산과 대량 소비가 가능해졌다. \\n② 도시화 \\n㉠ 의미 : 한 국가 내에서 도시 거주 인구 비율이 높아지고 도시적 생활 양식과 도시적 경관'),\n",
       " Document(id='34f8bacd-989e-4064-906c-80ac74115b5f', metadata={'total_pages': 1, 'coordinates': [[{'x': 0.0355, 'y': 0.0173}, {'x': 0.159, 'y': 0.0173}, {'x': 0.159, 'y': 0.0302}, {'x': 0.0355, 'y': 0.0302}], [{'x': 0.5143, 'y': 0.0163}, {'x': 0.6505, 'y': 0.0163}, {'x': 0.6505, 'y': 0.0309}, {'x': 0.5143, 'y': 0.0309}], [{'x': 0.2125, 'y': 0.4215}, {'x': 0.759, 'y': 0.4215}, {'x': 0.759, 'y': 0.4593}, {'x': 0.2125, 'y': 0.4593}], [{'x': 0.2356, 'y': 0.4645}, {'x': 0.7019, 'y': 0.4645}, {'x': 0.7019, 'y': 0.502}, {'x': 0.2356, 'y': 0.502}], [{'x': 0.2093, 'y': 0.5281}, {'x': 0.8371, 'y': 0.5281}, {'x': 0.8371, 'y': 0.6098}, {'x': 0.2093, 'y': 0.6098}], [{'x': 0.0364, 'y': 0.9706}, {'x': 0.2465, 'y': 0.9706}, {'x': 0.2465, 'y': 0.9834}, {'x': 0.0364, 'y': 0.9834}], [{'x': 0.9407, 'y': 0.9716}, {'x': 0.9604, 'y': 0.9716}, {'x': 0.9604, 'y': 0.9822}, {'x': 0.9407, 'y': 0.9822}]]}, page_content='초기 단계 \\n● 대부분의 인구가 촌락에 분포하고, 1차 산업에 종사함 \\n● 산업화를 계기로 이촌 향도 현상이 발생하면서 급격한 도시화가 이루어짐'),\n",
       " Document(id='a35678fa-d53f-40ae-8808-e4bbac83db94', metadata={'total_pages': 1, 'coordinates': [[{'x': 0.0355, 'y': 0.0173}, {'x': 0.159, 'y': 0.0173}, {'x': 0.159, 'y': 0.0302}, {'x': 0.0355, 'y': 0.0302}], [{'x': 0.5143, 'y': 0.0163}, {'x': 0.6505, 'y': 0.0163}, {'x': 0.6505, 'y': 0.0309}, {'x': 0.5143, 'y': 0.0309}], [{'x': 0.2125, 'y': 0.4215}, {'x': 0.759, 'y': 0.4215}, {'x': 0.759, 'y': 0.4593}, {'x': 0.2125, 'y': 0.4593}], [{'x': 0.2356, 'y': 0.4645}, {'x': 0.7019, 'y': 0.4645}, {'x': 0.7019, 'y': 0.502}, {'x': 0.2356, 'y': 0.502}], [{'x': 0.2093, 'y': 0.5281}, {'x': 0.8371, 'y': 0.5281}, {'x': 0.8371, 'y': 0.6098}, {'x': 0.2093, 'y': 0.6098}], [{'x': 0.0364, 'y': 0.9706}, {'x': 0.2465, 'y': 0.9706}, {'x': 0.2465, 'y': 0.9834}, {'x': 0.0364, 'y': 0.9834}], [{'x': 0.9407, 'y': 0.9716}, {'x': 0.9604, 'y': 0.9716}, {'x': 0.9604, 'y': 0.9822}, {'x': 0.9407, 'y': 0.9822}]]}, page_content='25. 1. 14. 오후 10:24 고졸 성인학습자_사회 \\nCHAPTER \\n01 산업화 · 도시화에 따른 변화 \\n학습목표')]"
      ]
     },
     "execution_count": 26,
     "metadata": {},
     "output_type": "execute_result"
    }
   ],
   "source": [
    "# 검색기에 쿼리를 날려 검색된 chunk 결과를 확인합니다.\n",
    "retriever.invoke(\"산업화의 의미는?\")"
   ]
  },
  {
   "cell_type": "code",
   "execution_count": null,
   "metadata": {},
   "outputs": [],
   "source": []
  },
  {
   "cell_type": "code",
   "execution_count": 27,
   "metadata": {},
   "outputs": [],
   "source": [
    "# 단계 6: 프롬프트 생성(Create Prompt)\n",
    "# 프롬프트를 생성합니다.\n",
    "prompt = PromptTemplate.from_template(\n",
    "    \"\"\"You are an assistant for question-answering tasks. \n",
    "Use the following pieces of retrieved context to answer the question. \n",
    "If you don't know the answer, just say that you don't know. \n",
    "Answer in Korean.\n",
    "\n",
    "#Context: \n",
    "{context}\n",
    "\n",
    "#Question:\n",
    "{question}\n",
    "\n",
    "#Answer:\"\"\"\n",
    ")"
   ]
  },
  {
   "cell_type": "code",
   "execution_count": 28,
   "metadata": {},
   "outputs": [],
   "source": [
    "# 단계 7: 언어모델(LLM) 생성\n",
    "# 모델(LLM) 을 생성합니다.\n",
    "llm = ChatUpstage(model=\"solar-pro\")"
   ]
  },
  {
   "cell_type": "code",
   "execution_count": 29,
   "metadata": {},
   "outputs": [],
   "source": [
    "# 단계 8: 체인(Chain) 생성\n",
    "chain = (\n",
    "    {\"context\": retriever, \"question\": RunnablePassthrough()}\n",
    "    | prompt\n",
    "    | llm\n",
    "    | StrOutputParser()\n",
    ")"
   ]
  },
  {
   "cell_type": "code",
   "execution_count": 30,
   "metadata": {},
   "outputs": [
    {
     "name": "stdout",
     "output_type": "stream",
     "text": [
      "농업 중심의 사회에서 공업, 서비스업 중심으로 변화하는 현상이다.\n"
     ]
    }
   ],
   "source": [
    "# 생성된 체인에 쿼리(질문)을 입력하고 실행합니다.\n",
    "\n",
    "# 체인 실행(Run Chain)\n",
    "# 문서에 대한 질의를 입력하고, 답변을 출력합니다.\n",
    "question = \"산업화의 의미는?\"\n",
    "response = chain.invoke(question)\n",
    "print(response)"
   ]
  },
  {
   "cell_type": "code",
   "execution_count": null,
   "metadata": {},
   "outputs": [],
   "source": []
  },
  {
   "cell_type": "code",
   "execution_count": null,
   "metadata": {},
   "outputs": [],
   "source": []
  },
  {
   "cell_type": "markdown",
   "metadata": {},
   "source": [
    "## RAG 사용 안한 경우"
   ]
  },
  {
   "cell_type": "code",
   "execution_count": 31,
   "metadata": {},
   "outputs": [
    {
     "name": "stdout",
     "output_type": "stream",
     "text": [
      "산업화는 경제 발전의 단계 중 하나로, 농업 중심 사회에서 제조업 중심의 사회로 변화하는 과정을 의미합니다. 이 과정에서 기계화와 대량 생산, 기술 혁신 등이 일어나며, 경제 성장과 함께 사회 구조, 생활 방식, 문화 등 다양한 측면에서 변화가 일어납니다.\n"
     ]
    }
   ],
   "source": [
    "prompt = PromptTemplate.from_template(\n",
    "    \"\"\"You are an assistant for question-answering tasks. \n",
    "Answer in Korean.\n",
    "\n",
    "#Question:\n",
    "{question}\n",
    "\n",
    "#Answer:\"\"\"\n",
    ")\n",
    "\n",
    "# 단계 7: 언어모델(LLM) 생성\n",
    "# 모델(LLM) 을 생성합니다.\n",
    "llm = ChatUpstage(model=\"solar-pro\")\n",
    "\n",
    "# 단계 8: 체인(Chain) 생성\n",
    "chain = {\"question\": RunnablePassthrough()} | prompt | llm | StrOutputParser()\n",
    "\n",
    "# 체인 실행(Run Chain)\n",
    "# 문서에 대한 질의를 입력하고, 답변을 출력합니다.\n",
    "question = \"산업화의 의미는?\"\n",
    "response = chain.invoke(question)\n",
    "print(response)"
   ]
  },
  {
   "cell_type": "code",
   "execution_count": null,
   "metadata": {},
   "outputs": [],
   "source": []
  }
 ],
 "metadata": {
  "kernelspec": {
   "display_name": "aitech311",
   "language": "python",
   "name": "python3"
  },
  "language_info": {
   "codemirror_mode": {
    "name": "ipython",
    "version": 3
   },
   "file_extension": ".py",
   "mimetype": "text/x-python",
   "name": "python",
   "nbconvert_exporter": "python",
   "pygments_lexer": "ipython3",
   "version": "3.11.11"
  }
 },
 "nbformat": 4,
 "nbformat_minor": 2
}
